{
 "cells": [
  {
   "cell_type": "markdown",
   "metadata": {},
   "source": [
    "## Homework exercise 1: working with dictionaries"
   ]
  },
  {
   "cell_type": "markdown",
   "metadata": {},
   "source": [
    "JSON is a handy format to store dictionaries. The file `usertag_sample.json` contains the tags used by 20 StackOverflow users and has the following structure: <br>\n",
    "`{userid: {tag: {'answer_count': x, #number of answers given to questions with the tag\n",
    "                'answer_points': y, #number of points earned on answers with the tag\n",
    "                'question_count': z, #number of questions asked with the given tag\n",
    "                'question_score': w}}} #number of points earned on questions with the tag`\n",
    "\n",
    "Read in the json file to a dictionary. <br> <br> _(hint: Import the module `json` and use the function `json.load(f)` to read json files instead of `f.read()`, and replace `write(dictionary)` with `json.dump(dictionary, f)` for writing._ <br>\n",
    "\n",
    "What is the type of the variable in which you have just read the json file? What is its structure?\n",
    "\n",
    "1. Make a list that contains the tags in which user '1000026' is active (asked questions or answered them). Call it `1000026_tags`.\n",
    "\n",
    "2. Create a list of the user ids.\n",
    "\n",
    "3. Create a new dictionary with the following structure: <br>\n",
    "`{userid: {tag: x}}` <br>\n",
    "`#where x is the sum of the points earned on answers and questions with the tag ('answer_points' + 'questions_score')` <br>\n",
    "Write out the dictionary that you created to another json file.\n",
    "\n"
   ]
  },
  {
   "cell_type": "code",
   "execution_count": 2,
   "metadata": {},
   "outputs": [],
   "source": [
    "import requests\n",
    "import json\n",
    "import os"
   ]
  },
  {
   "cell_type": "code",
   "execution_count": 3,
   "metadata": {},
   "outputs": [],
   "source": [
    "#json=open('usertag_sample.json').read()"
   ]
  },
  {
   "cell_type": "code",
   "execution_count": 6,
   "metadata": {},
   "outputs": [],
   "source": [
    "with open('usertag_sample.json') as json_data:\n",
    "    d = json.load(json_data)\n",
    "    \n",
    "   "
   ]
  },
  {
   "cell_type": "code",
   "execution_count": 7,
   "metadata": {},
   "outputs": [
    {
     "data": {
      "text/plain": [
       "dict"
      ]
     },
     "execution_count": 7,
     "metadata": {},
     "output_type": "execute_result"
    }
   ],
   "source": [
    "type(d)"
   ]
  },
  {
   "cell_type": "markdown",
   "metadata": {},
   "source": [
    " *** Answer: *** The type of the variable I have just read is dictionary"
   ]
  },
  {
   "cell_type": "code",
   "execution_count": 8,
   "metadata": {},
   "outputs": [
    {
     "data": {
      "text/plain": [
       "dict_keys(['1000026', '1000058', '1000093', '100011', '1000145', '100015', '100017', '1000207', '1000231', '1000269', '1000341', '1000447', '1000510', '1000608', '1000610', '1000734', '1000766', '1000849', '1000857', '100091'])"
      ]
     },
     "execution_count": 8,
     "metadata": {},
     "output_type": "execute_result"
    }
   ],
   "source": [
    "d.keys()"
   ]
  },
  {
   "cell_type": "code",
   "execution_count": 9,
   "metadata": {},
   "outputs": [
    {
     "data": {
      "text/plain": [
       "dict_values([{'python': {'answer_count': 3, 'answer_points': 2, 'question_count': 4, 'question_score': 5}, 'xpath': {'answer_count': 3, 'answer_points': 0, 'question_count': 2, 'question_score': 5}, 'solver': {'answer_count': 0, 'answer_points': 0, 'question_count': 1, 'question_score': 0}, 'replace': {'answer_count': 0, 'answer_points': 0, 'question_count': 1, 'question_score': 3}, 'dimple.js': {'answer_count': 1, 'answer_points': 1, 'question_count': 3, 'question_score': 2}, 'r': {'answer_count': 1, 'answer_points': 0, 'question_count': 3, 'question_score': 4}, 'python-3.6': {'answer_count': 0, 'answer_points': 0, 'question_count': 1, 'question_score': 2}, 'storyboard': {'answer_count': 0, 'answer_points': 0, 'question_count': 1, 'question_score': 0}, 'javascript': {'answer_count': 1, 'answer_points': 1, 'question_count': 3, 'question_score': 2}, 'xml': {'answer_count': 2, 'answer_points': 0, 'question_count': 1, 'question_score': 3}, '.net': {'answer_count': 0, 'answer_points': 0, 'question_count': 1, 'question_score': 0}, 'elementtree': {'answer_count': 0, 'answer_points': 0, 'question_count': 1, 'question_score': 1}, 'python-3.x': {'answer_count': 1, 'answer_points': 1, 'question_count': 1, 'question_score': 2}, 'dataframe': {'answer_count': 0, 'answer_points': 0, 'question_count': 3, 'question_score': 4}, 'webmatrix-3': {'answer_count': 0, 'answer_points': 0, 'question_count': 1, 'question_score': 0}, 'python-2.7': {'answer_count': 0, 'answer_points': 0, 'question_count': 1, 'question_score': 1}, 'theano': {'answer_count': 1, 'answer_points': 1, 'question_count': 1, 'question_score': 0}, 'xslt-3.0': {'answer_count': 0, 'answer_points': 0, 'question_count': 2, 'question_score': 5}, 'nuget': {'answer_count': 0, 'answer_points': 0, 'question_count': 1, 'question_score': 0}, 'function': {'answer_count': 0, 'answer_points': 0, 'question_count': 1, 'question_score': 0}, 'keras': {'answer_count': 1, 'answer_points': 1, 'question_count': 0, 'question_score': 0}, 'arrays': {'answer_count': 0, 'answer_points': 0, 'question_count': 2, 'question_score': 4}, 'theano-cuda': {'answer_count': 0, 'answer_points': 0, 'question_count': 1, 'question_score': 0}, 'variables': {'answer_count': 0, 'answer_points': 0, 'question_count': 1, 'question_score': 0}, 'statsmodels': {'answer_count': 1, 'answer_points': 1, 'question_count': 0, 'question_score': 0}, 'numpy': {'answer_count': 0, 'answer_points': 0, 'question_count': 2, 'question_score': 4}, 'windows': {'answer_count': 0, 'answer_points': 0, 'question_count': 1, 'question_score': 0}, 'plyr': {'answer_count': 0, 'answer_points': 0, 'question_count': 1, 'question_score': 1}, 'deep-learning': {'answer_count': 1, 'answer_points': 1, 'question_count': 0, 'question_score': 0}, 'asp.net': {'answer_count': 0, 'answer_points': 0, 'question_count': 2, 'question_score': 0}, 'list': {'answer_count': 0, 'answer_points': 0, 'question_count': 1, 'question_score': 0}, 'position': {'answer_count': 0, 'answer_points': 0, 'question_count': 1, 'question_score': 3}, 'pandas': {'answer_count': 1, 'answer_points': 1, 'question_count': 0, 'question_score': 0}, 'c#': {'answer_count': 0, 'answer_points': 0, 'question_count': 2, 'question_score': 0}, 'sapply': {'answer_count': 0, 'answer_points': 0, 'question_count': 1, 'question_score': 0}, 'sequences': {'answer_count': 0, 'answer_points': 0, 'question_count': 1, 'question_score': 3}, 'xslt-2.0': {'answer_count': 0, 'answer_points': 0, 'question_count': 7, 'question_score': 15}, 'special-characters': {'answer_count': 0, 'answer_points': 0, 'question_count': 1, 'question_score': 0}, 'asp.net-mvc-3': {'answer_count': 0, 'answer_points': 0, 'question_count': 1, 'question_score': 0}, 'indexof': {'answer_count': 0, 'answer_points': 0, 'question_count': 1, 'question_score': 3}, 'xpath-2.0': {'answer_count': 0, 'answer_points': 0, 'question_count': 6, 'question_score': 15}, 'unicode': {'answer_count': 0, 'answer_points': 0, 'question_count': 1, 'question_score': 0}, 'web-config': {'answer_count': 0, 'answer_points': 0, 'question_count': 1, 'question_score': 0}, 'base-url': {'answer_count': 0, 'answer_points': 0, 'question_count': 1, 'question_score': 1}, 'saxon': {'answer_count': 0, 'answer_points': 0, 'question_count': 6, 'question_score': 10}, 'query-string': {'answer_count': 0, 'answer_points': 0, 'question_count': 1, 'question_score': 0}, 'asp.net-mvc': {'answer_count': 0, 'answer_points': 0, 'question_count': 1, 'question_score': 0}, 'map': {'answer_count': 0, 'answer_points': 0, 'question_count': 1, 'question_score': 2}, 'xslt': {'answer_count': 3, 'answer_points': 0, 'question_count': 3, 'question_score': 6}, 'scipy': {'answer_count': 0, 'answer_points': 0, 'question_count': 1, 'question_score': 0}, 'key': {'answer_count': 0, 'answer_points': 0, 'question_count': 1, 'question_score': 2}, 'subset': {'answer_count': 0, 'answer_points': 0, 'question_count': 1, 'question_score': 3}}, {'sql': {'answer_count': 12, 'answer_points': 8, 'question_count': 0, 'question_score': 0}, 'c#': {'answer_count': 5, 'answer_points': 1, 'question_count': 0, 'question_score': 0}, 'data-access-layer': {'answer_count': 1, 'answer_points': 0, 'question_count': 0, 'question_score': 0}, 'oracle': {'answer_count': 1, 'answer_points': 0, 'question_count': 0, 'question_score': 0}, 'sql-server': {'answer_count': 7, 'answer_points': 6, 'question_count': 0, 'question_score': 0}, 'sql-server-2008': {'answer_count': 2, 'answer_points': 1, 'question_count': 0, 'question_score': 0}, 'database': {'answer_count': 1, 'answer_points': 0, 'question_count': 0, 'question_score': 0}, 'join': {'answer_count': 1, 'answer_points': 0, 'question_count': 0, 'question_score': 0}, 'tsql': {'answer_count': 3, 'answer_points': 6, 'question_count': 0, 'question_score': 0}, 'datetime': {'answer_count': 1, 'answer_points': 1, 'question_count': 0, 'question_score': 0}, 'sorting': {'answer_count': 1, 'answer_points': 0, 'question_count': 0, 'question_score': 0}, 'vb.net': {'answer_count': 1, 'answer_points': 0, 'question_count': 0, 'question_score': 0}, 'sql-server-2005': {'answer_count': 1, 'answer_points': 2, 'question_count': 0, 'question_score': 0}, 'mysql': {'answer_count': 1, 'answer_points': 1, 'question_count': 0, 'question_score': 0}, 'linq': {'answer_count': 1, 'answer_points': 0, 'question_count': 0, 'question_score': 0}, 'reporting-services': {'answer_count': 1, 'answer_points': 0, 'question_count': 0, 'question_score': 0}, 'outer-join': {'answer_count': 1, 'answer_points': 2, 'question_count': 0, 'question_score': 0}, 'linq-to-sql': {'answer_count': 1, 'answer_points': 1, 'question_count': 0, 'question_score': 0}, 'entity-framework': {'answer_count': 1, 'answer_points': 0, 'question_count': 0, 'question_score': 0}, 'sp-executesql': {'answer_count': 1, 'answer_points': 0, 'question_count': 0, 'question_score': 0}, 'duplicates': {'answer_count': 1, 'answer_points': 2, 'question_count': 0, 'question_score': 0}, 'web-api': {'answer_count': 1, 'answer_points': 1, 'question_count': 0, 'question_score': 0}, 'long-integer': {'answer_count': 1, 'answer_points': 0, 'question_count': 0, 'question_score': 0}}, {'iphone': {'answer_count': 2, 'answer_points': 1, 'question_count': 8, 'question_score': 7}, 'html': {'answer_count': 0, 'answer_points': 0, 'question_count': 3, 'question_score': 1}, 'uinavigationcontroller': {'answer_count': 0, 'answer_points': 0, 'question_count': 1, 'question_score': 1}, 'tableview': {'answer_count': 1, 'answer_points': 0, 'question_count': 0, 'question_score': 0}, 'objective-c': {'answer_count': 2, 'answer_points': 1, 'question_count': 4, 'question_score': 5}, 'javascript': {'answer_count': 0, 'answer_points': 0, 'question_count': 2, 'question_score': 0}, 'nsstringencoding': {'answer_count': 0, 'answer_points': 0, 'question_count': 1, 'question_score': 1}, 'button': {'answer_count': 1, 'answer_points': 0, 'question_count': 0, 'question_score': 0}, 'ios': {'answer_count': 2, 'answer_points': 0, 'question_count': 5, 'question_score': 3}, 'html-parsing': {'answer_count': 0, 'answer_points': 0, 'question_count': 2, 'question_score': 1}, 'uitableview': {'answer_count': 0, 'answer_points': 0, 'question_count': 1, 'question_score': 0}, 'xcode': {'answer_count': 1, 'answer_points': 0, 'question_count': 0, 'question_score': 0}, 'xpath': {'answer_count': 0, 'answer_points': 0, 'question_count': 6, 'question_score': 2}, 'cocoa-touch': {'answer_count': 0, 'answer_points': 0, 'question_count': 1, 'question_score': 4}, 'nsmutablearray': {'answer_count': 1, 'answer_points': 0, 'question_count': 0, 'question_score': 0}, 'nsarray': {'answer_count': 1, 'answer_points': 0, 'question_count': 0, 'question_score': 0}}, {'jquery': {'answer_count': 1, 'answer_points': 2, 'question_count': 2, 'question_score': 10}, 'google-maps': {'answer_count': 0, 'answer_points': 0, 'question_count': 1, 'question_score': 18}, 'internationalization': {'answer_count': 0, 'answer_points': 0, 'question_count': 1, 'question_score': 3}, 'integer': {'answer_count': 0, 'answer_points': 0, 'question_count': 1, 'question_score': 1}, 'onclick': {'answer_count': 1, 'answer_points': 2, 'question_count': 1, 'question_score': 10}, 'embedded-resource': {'answer_count': 0, 'answer_points': 0, 'question_count': 1, 'question_score': 18}, 'filter': {'answer_count': 0, 'answer_points': 0, 'question_count': 1, 'question_score': 0}, 'floating-point': {'answer_count': 0, 'answer_points': 0, 'question_count': 1, 'question_score': 1}, 'google-app-engine': {'answer_count': 0, 'answer_points': 0, 'question_count': 8, 'question_score': 12}, 'django': {'answer_count': 0, 'answer_points': 0, 'question_count': 1, 'question_score': 1}, 'frameworks': {'answer_count': 0, 'answer_points': 0, 'question_count': 1, 'question_score': 2}, 'variables': {'answer_count': 0, 'answer_points': 0, 'question_count': 1, 'question_score': 0}, 'python': {'answer_count': 0, 'answer_points': 0, 'question_count': 5, 'question_score': 3}, 'django-templates': {'answer_count': 0, 'answer_points': 0, 'question_count': 1, 'question_score': 1}, 'textinput': {'answer_count': 0, 'answer_points': 0, 'question_count': 1, 'question_score': 0}, 'field': {'answer_count': 0, 'answer_points': 0, 'question_count': 1, 'question_score': 0}, 'mysql': {'answer_count': 0, 'answer_points': 0, 'question_count': 4, 'question_score': 35}, 'iframe': {'answer_count': 0, 'answer_points': 0, 'question_count': 1, 'question_score': 18}, 'input': {'answer_count': 0, 'answer_points': 0, 'question_count': 1, 'question_score': 0}, 'apache': {'answer_count': 0, 'answer_points': 0, 'question_count': 1, 'question_score': 1}, 'string': {'answer_count': 0, 'answer_points': 0, 'question_count': 3, 'question_score': 30}, 'if-statement': {'answer_count': 0, 'answer_points': 0, 'question_count': 1, 'question_score': 0}, 'order': {'answer_count': 0, 'answer_points': 0, 'question_count': 1, 'question_score': 5}, 'url-rewriting': {'answer_count': 0, 'answer_points': 0, 'question_count': 1, 'question_score': 1}, 'php': {'answer_count': 0, 'answer_points': 0, 'question_count': 3, 'question_score': 2}, 'key': {'answer_count': 0, 'answer_points': 0, 'question_count': 1, 'question_score': 0}, 'sql-order-by': {'answer_count': 0, 'answer_points': 0, 'question_count': 1, 'question_score': 5}, '.htaccess': {'answer_count': 0, 'answer_points': 0, 'question_count': 1, 'question_score': 1}, 'database': {'answer_count': 0, 'answer_points': 0, 'question_count': 2, 'question_score': 7}, 'duplicates': {'answer_count': 0, 'answer_points': 0, 'question_count': 1, 'question_score': 7}, 'limit': {'answer_count': 0, 'answer_points': 0, 'question_count': 1, 'question_score': 5}, 'google-maps-markers': {'answer_count': 0, 'answer_points': 0, 'question_count': 1, 'question_score': 18}, 'javascript': {'answer_count': 0, 'answer_points': 0, 'question_count': 2, 'question_score': 14}, 'regex': {'answer_count': 0, 'answer_points': 0, 'question_count': 1, 'question_score': 0}, 'unique': {'answer_count': 0, 'answer_points': 0, 'question_count': 1, 'question_score': 0}, 'arrays': {'answer_count': 0, 'answer_points': 0, 'question_count': 1, 'question_score': 0}, 'sitemap': {'answer_count': 0, 'answer_points': 0, 'question_count': 2, 'question_score': 0}, 'sql': {'answer_count': 0, 'answer_points': 0, 'question_count': 1, 'question_score': 29}, 'cells': {'answer_count': 0, 'answer_points': 0, 'question_count': 1, 'question_score': 0}, 'string-length': {'answer_count': 0, 'answer_points': 0, 'question_count': 1, 'question_score': 0}, 'large-data-volumes': {'answer_count': 0, 'answer_points': 0, 'question_count': 1, 'question_score': 0}, 'date': {'answer_count': 0, 'answer_points': 0, 'question_count': 1, 'question_score': 3}, 'performance': {'answer_count': 0, 'answer_points': 0, 'question_count': 1, 'question_score': 1}, 'html-table': {'answer_count': 0, 'answer_points': 0, 'question_count': 1, 'question_score': 0}}, {'java': {'answer_count': 5, 'answer_points': 39, 'question_count': 15, 'question_score': 23}, 'windows': {'answer_count': 1, 'answer_points': 2, 'question_count': 2, 'question_score': 0}, 'date': {'answer_count': 1, 'answer_points': 1, 'question_count': 0, 'question_score': 0}, 'encode': {'answer_count': 0, 'answer_points': 0, 'question_count': 1, 'question_score': 1}, 'file': {'answer_count': 1, 'answer_points': 31, 'question_count': 1, 'question_score': 0}, 'jcomponent': {'answer_count': 1, 'answer_points': 2, 'question_count': 1, 'question_score': 1}, 'embedded-resource': {'answer_count': 1, 'answer_points': 1, 'question_count': 0, 'question_score': 0}, 'decode': {'answer_count': 0, 'answer_points': 0, 'question_count': 1, 'question_score': 1}, 'url': {'answer_count': 1, 'answer_points': 31, 'question_count': 0, 'question_score': 0}, 'order': {'answer_count': 1, 'answer_points': 2, 'question_count': 0, 'question_score': 0}, 'strpos': {'answer_count': 1, 'answer_points': 1, 'question_count': 0, 'question_score': 0}, 'audio-recording': {'answer_count': 0, 'answer_points': 0, 'question_count': 1, 'question_score': 1}, 'uri': {'answer_count': 1, 'answer_points': 31, 'question_count': 0, 'question_score': 0}, 'ajax': {'answer_count': 1, 'answer_points': 2, 'question_count': 0, 'question_score': 0}, 'each': {'answer_count': 1, 'answer_points': 1, 'question_count': 0, 'question_score': 0}, 'audio': {'answer_count': 0, 'answer_points': 0, 'question_count': 1, 'question_score': 1}, 'php': {'answer_count': 10, 'answer_points': 20, 'question_count': 6, 'question_score': 7}, 'arrays': {'answer_count': 1, 'answer_points': 2, 'question_count': 0, 'question_score': 0}, 'scheduling': {'answer_count': 1, 'answer_points': 1, 'question_count': 0, 'question_score': 0}, 'user-interface': {'answer_count': 0, 'answer_points': 0, 'question_count': 1, 'question_score': 1}, 'c++': {'answer_count': 2, 'answer_points': 6, 'question_count': 2, 'question_score': 2}, 'suppress': {'answer_count': 1, 'answer_points': 2, 'question_count': 0, 'question_score': 0}, 'cron': {'answer_count': 1, 'answer_points': 1, 'question_count': 0, 'question_score': 0}, 'look-and-feel': {'answer_count': 0, 'answer_points': 0, 'question_count': 1, 'question_score': 1}, 'system-calls': {'answer_count': 1, 'answer_points': 4, 'question_count': 0, 'question_score': 0}, 'ping': {'answer_count': 1, 'answer_points': 2, 'question_count': 0, 'question_score': 0}, 'c': {'answer_count': 1, 'answer_points': 1, 'question_count': 0, 'question_score': 0}, 'appdata': {'answer_count': 0, 'answer_points': 0, 'question_count': 1, 'question_score': 2}, 'system': {'answer_count': 1, 'answer_points': 4, 'question_count': 0, 'question_score': 0}, 'if-statement': {'answer_count': 1, 'answer_points': 2, 'question_count': 0, 'question_score': 0}, 'struct': {'answer_count': 1, 'answer_points': 1, 'question_count': 0, 'question_score': 0}, 'xml-parsing': {'answer_count': 0, 'answer_points': 0, 'question_count': 1, 'question_score': 1}, 'console': {'answer_count': 1, 'answer_points': 4, 'question_count': 0, 'question_score': 0}, 'mysql': {'answer_count': 3, 'answer_points': 1, 'question_count': 0, 'question_score': 0}, 'html': {'answer_count': 3, 'answer_points': 0, 'question_count': 0, 'question_score': 0}, 'libxml2': {'answer_count': 0, 'answer_points': 0, 'question_count': 1, 'question_score': 1}, 'random': {'answer_count': 1, 'answer_points': 4, 'question_count': 0, 'question_score': 0}, 'string': {'answer_count': 2, 'answer_points': 1, 'question_count': 0, 'question_score': 0}, 'css': {'answer_count': 2, 'answer_points': 0, 'question_count': 0, 'question_score': 0}, 'xml': {'answer_count': 0, 'answer_points': 0, 'question_count': 1, 'question_score': 1}, 'javascript': {'answer_count': 2, 'answer_points': 3, 'question_count': 1, 'question_score': 3}, 'image': {'answer_count': 2, 'answer_points': 1, 'question_count': 0, 'question_score': 0}, 'namespaces': {'answer_count': 0, 'answer_points': 0, 'question_count': 2, 'question_score': 0}, 'simplexml': {'answer_count': 0, 'answer_points': 0, 'question_count': 1, 'question_score': 1}, 'jquery': {'answer_count': 2, 'answer_points': 3, 'question_count': 0, 'question_score': 0}, 'scheduled-tasks': {'answer_count': 1, 'answer_points': 1, 'question_count': 1, 'question_score': 3}, 'constructor': {'answer_count': 0, 'answer_points': 0, 'question_count': 1, 'question_score': 0}, 'jscrollbar': {'answer_count': 0, 'answer_points': 0, 'question_count': 1, 'question_score': 3}, 'swing': {'answer_count': 1, 'answer_points': 2, 'question_count': 6, 'question_score': 17}, 'unix': {'answer_count': 1, 'answer_points': 1, 'question_count': 0, 'question_score': 0}, 'oop': {'answer_count': 0, 'answer_points': 0, 'question_count': 1, 'question_score': 2}, 'increment': {'answer_count': 0, 'answer_points': 0, 'question_count': 1, 'question_score': 3}}, {'lua': {'answer_count': 1, 'answer_points': 2, 'question_count': 2, 'question_score': 2}, 'sql': {'answer_count': 0, 'answer_points': 0, 'question_count': 2, 'question_score': 3}, 'node.js': {'answer_count': 0, 'answer_points': 0, 'question_count': 1, 'question_score': 2}, 'firebase': {'answer_count': 0, 'answer_points': 0, 'question_count': 1, 'question_score': 3}, 'corona': {'answer_count': 1, 'answer_points': 2, 'question_count': 2, 'question_score': 2}, 'python': {'answer_count': 0, 'answer_points': 0, 'question_count': 2, 'question_score': 9}, 'ajax': {'answer_count': 0, 'answer_points': 0, 'question_count': 1, 'question_score': 0}, 'cordova': {'answer_count': 0, 'answer_points': 0, 'question_count': 1, 'question_score': 1}, 'animation': {'answer_count': 1, 'answer_points': 2, 'question_count': 1, 'question_score': 1}, 'unix': {'answer_count': 1, 'answer_points': 0, 'question_count': 1, 'question_score': 0}, 'programming-languages': {'answer_count': 0, 'answer_points': 0, 'question_count': 1, 'question_score': 2}, 'migration': {'answer_count': 0, 'answer_points': 0, 'question_count': 1, 'question_score': 1}, 'jquery': {'answer_count': 0, 'answer_points': 0, 'question_count': 13, 'question_score': 53}, 'dom': {'answer_count': 0, 'answer_points': 0, 'question_count': 2, 'question_score': 5}, 'windows': {'answer_count': 0, 'answer_points': 0, 'question_count': 1, 'question_score': 5}, 'ios': {'answer_count': 0, 'answer_points': 0, 'question_count': 1, 'question_score': 1}, 'php': {'answer_count': 0, 'answer_points': 0, 'question_count': 10, 'question_score': 29}, 'realm': {'answer_count': 0, 'answer_points': 0, 'question_count': 2, 'question_score': 1}, 'html': {'answer_count': 0, 'answer_points': 0, 'question_count': 1, 'question_score': 0}, 'left-join': {'answer_count': 0, 'answer_points': 0, 'question_count': 1, 'question_score': 1}, 'mysql': {'answer_count': 1, 'answer_points': 0, 'question_count': 8, 'question_score': 7}, 'webmin': {'answer_count': 1, 'answer_points': 0, 'question_count': 1, 'question_score': 1}, 'innerhtml': {'answer_count': 0, 'answer_points': 0, 'question_count': 1, 'question_score': 0}, 'json': {'answer_count': 0, 'answer_points': 0, 'question_count': 1, 'question_score': 1}, 'c': {'answer_count': 2, 'answer_points': 0, 'question_count': 6, 'question_score': 17}, 'phpmyadmin': {'answer_count': 1, 'answer_points': 0, 'question_count': 1, 'question_score': 1}, 'iphone': {'answer_count': 0, 'answer_points': 0, 'question_count': 1, 'question_score': 1}, 'feedburner': {'answer_count': 0, 'answer_points': 0, 'question_count': 1, 'question_score': 0}, 'linux': {'answer_count': 1, 'answer_points': 0, 'question_count': 4, 'question_score': 16}, 'google-maps': {'answer_count': 1, 'answer_points': 0, 'question_count': 1, 'question_score': 0}, 'android': {'answer_count': 0, 'answer_points': 0, 'question_count': 1, 'question_score': 2}, 'wordpress': {'answer_count': 0, 'answer_points': 0, 'question_count': 1, 'question_score': 0}, 'flash': {'answer_count': 1, 'answer_points': 0, 'question_count': 3, 'question_score': 4}, 'google-maps-api-3': {'answer_count': 1, 'answer_points': 0, 'question_count': 1, 'question_score': 0}, 'sencha-touch-2': {'answer_count': 0, 'answer_points': 0, 'question_count': 1, 'question_score': 2}, 'wordpress-plugin': {'answer_count': 0, 'answer_points': 0, 'question_count': 1, 'question_score': 0}, 'jquery-ui': {'answer_count': 0, 'answer_points': 0, 'question_count': 4, 'question_score': 22}, 'groupwise-maximum': {'answer_count': 1, 'answer_points': 0, 'question_count': 1, 'question_score': 1}, 'redis': {'answer_count': 0, 'answer_points': 0, 'question_count': 1, 'question_score': 1}, 'css': {'answer_count': 0, 'answer_points': 0, 'question_count': 1, 'question_score': 2}, 'javascript': {'answer_count': 0, 'answer_points': 0, 'question_count': 3, 'question_score': 2}, 'actionscript': {'answer_count': 1, 'answer_points': 0, 'question_count': 0, 'question_score': 0}, 'mongodb': {'answer_count': 0, 'answer_points': 0, 'question_count': 1, 'question_score': 1}, 'frameworks': {'answer_count': 0, 'answer_points': 0, 'question_count': 1, 'question_score': 0}, 'xmpp': {'answer_count': 0, 'answer_points': 0, 'question_count': 3, 'question_score': 65}, 'google-app-engine': {'answer_count': 0, 'answer_points': 0, 'question_count': 1, 'question_score': 4}, 'angularjs': {'answer_count': 0, 'answer_points': 0, 'question_count': 1, 'question_score': 1}, 'rabbitmq': {'answer_count': 0, 'answer_points': 0, 'question_count': 1, 'question_score': 6}, 'couchdb': {'answer_count': 0, 'answer_points': 0, 'question_count': 3, 'question_score': 4}, 'regex': {'answer_count': 0, 'answer_points': 0, 'question_count': 1, 'question_score': 0}, 'angularjs-service': {'answer_count': 0, 'answer_points': 0, 'question_count': 1, 'question_score': 1}, 'amqp': {'answer_count': 0, 'answer_points': 0, 'question_count': 1, 'question_score': 6}}, {'iphone': {'answer_count': 18, 'answer_points': 111, 'question_count': 15, 'question_score': 59}, 'uisplitviewcontroller': {'answer_count': 1, 'answer_points': 4, 'question_count': 1, 'question_score': 5}, 'pngcrush': {'answer_count': 1, 'answer_points': 0, 'question_count': 0, 'question_score': 0}, 'subtitle': {'answer_count': 0, 'answer_points': 0, 'question_count': 1, 'question_score': 25}, 'ios': {'answer_count': 10, 'answer_points': 52, 'question_count': 4, 'question_score': 25}, 'regex': {'answer_count': 1, 'answer_points': 2, 'question_count': 1, 'question_score': 1}, 'provisioning-profile': {'answer_count': 1, 'answer_points': 0, 'question_count': 0, 'question_score': 0}, 'jailbreak': {'answer_count': 0, 'answer_points': 0, 'question_count': 1, 'question_score': 1}, 'ipad': {'answer_count': 5, 'answer_points': 41, 'question_count': 4, 'question_score': 15}, 'javascript': {'answer_count': 1, 'answer_points': 2, 'question_count': 1, 'question_score': 1}, 'ios-provisioning': {'answer_count': 1, 'answer_points': 0, 'question_count': 0, 'question_score': 0}, 'magnetometer': {'answer_count': 0, 'answer_points': 0, 'question_count': 1, 'question_score': 1}, 'objective-c': {'answer_count': 8, 'answer_points': 40, 'question_count': 1, 'question_score': 3}, 'xcode': {'answer_count': 1, 'answer_points': 0, 'question_count': 1, 'question_score': 0}, 'scroll': {'answer_count': 1, 'answer_points': 0, 'question_count': 0, 'question_score': 0}, 'xml': {'answer_count': 1, 'answer_points': 0, 'question_count': 0, 'question_score': 0}, 'uidatepicker': {'answer_count': 1, 'answer_points': 34, 'question_count': 0, 'question_score': 0}, 'settings': {'answer_count': 0, 'answer_points': 0, 'question_count': 2, 'question_score': 1}, 'title': {'answer_count': 0, 'answer_points': 0, 'question_count': 1, 'question_score': 25}, 'cocoa-touch': {'answer_count': 1, 'answer_points': 0, 'question_count': 0, 'question_score': 0}, 'animation': {'answer_count': 1, 'answer_points': 34, 'question_count': 0, 'question_score': 0}, 'avaudioplayer': {'answer_count': 1, 'answer_points': 0, 'question_count': 1, 'question_score': 2}, 'uipopovercontroller': {'answer_count': 0, 'answer_points': 0, 'question_count': 1, 'question_score': 5}, 'uipagecontrol': {'answer_count': 1, 'answer_points': 0, 'question_count': 0, 'question_score': 0}, 'keyboard': {'answer_count': 1, 'answer_points': 33, 'question_count': 0, 'question_score': 0}, 'ios-simulator': {'answer_count': 0, 'answer_points': 0, 'question_count': 2, 'question_score': 1}, 'uinavigationitem': {'answer_count': 0, 'answer_points': 0, 'question_count': 1, 'question_score': 25}, 'iphone-sdk-3.0': {'answer_count': 1, 'answer_points': 0, 'question_count': 0, 'question_score': 0}, 'uialertview': {'answer_count': 2, 'answer_points': 12, 'question_count': 1, 'question_score': 10}, 'xcode-storyboard': {'answer_count': 0, 'answer_points': 0, 'question_count': 1, 'question_score': 14}, 'image': {'answer_count': 0, 'answer_points': 0, 'question_count': 1, 'question_score': 1}, 'three20': {'answer_count': 1, 'answer_points': 2, 'question_count': 0, 'question_score': 0}, 'uiactionsheet': {'answer_count': 1, 'answer_points': 12, 'question_count': 1, 'question_score': 10}, 'avfoundation': {'answer_count': 0, 'answer_points': 0, 'question_count': 1, 'question_score': 2}, 'uinavigationcontroller': {'answer_count': 0, 'answer_points': 0, 'question_count': 1, 'question_score': 25}, 'uitableview': {'answer_count': 2, 'answer_points': 9, 'question_count': 1, 'question_score': 14}, 'audio': {'answer_count': 1, 'answer_points': 0, 'question_count': 0, 'question_score': 0}, 'uiimagepickercontroller': {'answer_count': 0, 'answer_points': 0, 'question_count': 1, 'question_score': 5}, 'refresh': {'answer_count': 1, 'answer_points': 9, 'question_count': 0, 'question_score': 0}, 'uitextfield': {'answer_count': 1, 'answer_points': 0, 'question_count': 0, 'question_score': 0}, 'memory-management': {'answer_count': 0, 'answer_points': 0, 'question_count': 1, 'question_score': 2}}, {'php': {'answer_count': 0, 'answer_points': 0, 'question_count': 8, 'question_score': 32}, 'subscript': {'answer_count': 0, 'answer_points': 0, 'question_count': 1, 'question_score': 0}, 'alignment': {'answer_count': 0, 'answer_points': 0, 'question_count': 1, 'question_score': 1}, 'dns': {'answer_count': 0, 'answer_points': 0, 'question_count': 1, 'question_score': 0}, 'javascript': {'answer_count': 0, 'answer_points': 0, 'question_count': 4, 'question_score': 2}, 'row': {'answer_count': 0, 'answer_points': 0, 'question_count': 1, 'question_score': 1}, 'foreach': {'answer_count': 0, 'answer_points': 0, 'question_count': 1, 'question_score': 1}, 'redirect': {'answer_count': 0, 'answer_points': 0, 'question_count': 1, 'question_score': 0}, 'html': {'answer_count': 0, 'answer_points': 0, 'question_count': 3, 'question_score': 33}, 'currency': {'answer_count': 0, 'answer_points': 0, 'question_count': 1, 'question_score': 2}, 'jpeg': {'answer_count': 0, 'answer_points': 0, 'question_count': 1, 'question_score': 0}, 'image': {'answer_count': 0, 'answer_points': 0, 'question_count': 1, 'question_score': 0}, 'excel': {'answer_count': 0, 'answer_points': 0, 'question_count': 3, 'question_score': 0}, 'charactercount': {'answer_count': 0, 'answer_points': 0, 'question_count': 1, 'question_score': 0}, 'http-status-code-404': {'answer_count': 0, 'answer_points': 0, 'question_count': 1, 'question_score': 1}, 'key': {'answer_count': 0, 'answer_points': 0, 'question_count': 1, 'question_score': 0}, 'decimal': {'answer_count': 0, 'answer_points': 0, 'question_count': 3, 'question_score': 3}, 'explode': {'answer_count': 0, 'answer_points': 0, 'question_count': 1, 'question_score': 1}, 'autofill': {'answer_count': 0, 'answer_points': 0, 'question_count': 1, 'question_score': 0}, 'remap': {'answer_count': 0, 'answer_points': 0, 'question_count': 1, 'question_score': 0}, 'preg-replace': {'answer_count': 0, 'answer_points': 0, 'question_count': 2, 'question_score': 3}, 'jquery': {'answer_count': 0, 'answer_points': 0, 'question_count': 1, 'question_score': 0}, 'order': {'answer_count': 0, 'answer_points': 0, 'question_count': 1, 'question_score': 0}, 'keyboard': {'answer_count': 0, 'answer_points': 0, 'question_count': 1, 'question_score': 0}, 'tabs': {'answer_count': 0, 'answer_points': 0, 'question_count': 2, 'question_score': 2}, 'refresh': {'answer_count': 0, 'answer_points': 0, 'question_count': 1, 'question_score': 2}, 'mysql': {'answer_count': 0, 'answer_points': 0, 'question_count': 1, 'question_score': 0}, 'arrays': {'answer_count': 0, 'answer_points': 0, 'question_count': 1, 'question_score': 0}, 'png': {'answer_count': 0, 'answer_points': 0, 'question_count': 2, 'question_score': 1}, 'css': {'answer_count': 0, 'answer_points': 0, 'question_count': 1, 'question_score': 1}, '.htaccess': {'answer_count': 0, 'answer_points': 0, 'question_count': 1, 'question_score': 0}, 'echo': {'answer_count': 0, 'answer_points': 0, 'question_count': 2, 'question_score': 29}, 'text': {'answer_count': 0, 'answer_points': 0, 'question_count': 1, 'question_score': 0}, 'subdomain': {'answer_count': 0, 'answer_points': 0, 'question_count': 1, 'question_score': 0}, 'superscript': {'answer_count': 0, 'answer_points': 0, 'question_count': 2, 'question_score': 1}, 'import': {'answer_count': 0, 'answer_points': 0, 'question_count': 1, 'question_score': 0}, 'apache': {'answer_count': 0, 'answer_points': 0, 'question_count': 1, 'question_score': 0}}, {'css': {'answer_count': 3, 'answer_points': 2, 'question_count': 0, 'question_score': 0}, 'iphone': {'answer_count': 1, 'answer_points': 0, 'question_count': 3, 'question_score': 10}, 'uitableview': {'answer_count': 1, 'answer_points': 0, 'question_count': 1, 'question_score': 4}, 'checkbox': {'answer_count': 0, 'answer_points': 0, 'question_count': 1, 'question_score': 0}, 'visual-studio-2010': {'answer_count': 1, 'answer_points': 1, 'question_count': 1, 'question_score': 1}, 'html': {'answer_count': 2, 'answer_points': 0, 'question_count': 1, 'question_score': 0}, 'alignment': {'answer_count': 1, 'answer_points': 0, 'question_count': 0, 'question_score': 0}, 'nested': {'answer_count': 0, 'answer_points': 0, 'question_count': 1, 'question_score': 0}, 'menu': {'answer_count': 1, 'answer_points': 1, 'question_count': 0, 'question_score': 0}, 'label': {'answer_count': 0, 'answer_points': 0, 'question_count': 3, 'question_score': 3}, 'radiobuttonlist': {'answer_count': 1, 'answer_points': 0, 'question_count': 0, 'question_score': 0}, 'indentation': {'answer_count': 0, 'answer_points': 0, 'question_count': 1, 'question_score': 5}, 'relative': {'answer_count': 1, 'answer_points': 1, 'question_count': 0, 'question_score': 0}, 'sql': {'answer_count': 0, 'answer_points': 0, 'question_count': 3, 'question_score': 24}, 'sql-server-2008': {'answer_count': 0, 'answer_points': 0, 'question_count': 1, 'question_score': 1}, 'wcf': {'answer_count': 0, 'answer_points': 0, 'question_count': 1, 'question_score': 4}, 'sprite': {'answer_count': 1, 'answer_points': 1, 'question_count': 0, 'question_score': 0}, 'stored-procedures': {'answer_count': 0, 'answer_points': 0, 'question_count': 3, 'question_score': 13}, 'nsxmlparser': {'answer_count': 0, 'answer_points': 0, 'question_count': 1, 'question_score': 1}, 'document': {'answer_count': 0, 'answer_points': 0, 'question_count': 1, 'question_score': 4}, 'asp.net': {'answer_count': 0, 'answer_points': 0, 'question_count': 26, 'question_score': 40}, 'session': {'answer_count': 0, 'answer_points': 0, 'question_count': 2, 'question_score': 1}, 'get': {'answer_count': 0, 'answer_points': 0, 'question_count': 1, 'question_score': 1}, 'list': {'answer_count': 0, 'answer_points': 0, 'question_count': 1, 'question_score': 3}, 'c#': {'answer_count': 0, 'answer_points': 0, 'question_count': 24, 'question_score': 40}, 'return': {'answer_count': 0, 'answer_points': 0, 'question_count': 2, 'question_score': 1}, 'nsstring': {'answer_count': 0, 'answer_points': 0, 'question_count': 1, 'question_score': 1}, 'textbox': {'answer_count': 0, 'answer_points': 0, 'question_count': 1, 'question_score': 4}, 'sql-server': {'answer_count': 0, 'answer_points': 0, 'question_count': 7, 'question_score': 26}, 'javascript': {'answer_count': 0, 'answer_points': 0, 'question_count': 2, 'question_score': 2}, 'uiscrollview': {'answer_count': 0, 'answer_points': 0, 'question_count': 1, 'question_score': 5}, 'exception': {'answer_count': 0, 'answer_points': 0, 'question_count': 1, 'question_score': 7}, 'gridview': {'answer_count': 0, 'answer_points': 0, 'question_count': 7, 'question_score': 18}, 'xml': {'answer_count': 0, 'answer_points': 0, 'question_count': 2, 'question_score': 5}, 'direction': {'answer_count': 0, 'answer_points': 0, 'question_count': 1, 'question_score': 5}, 'forms-authentication': {'answer_count': 0, 'answer_points': 0, 'question_count': 1, 'question_score': 0}, 'xcode': {'answer_count': 1, 'answer_points': 0, 'question_count': 5, 'question_score': 16}, 'ios': {'answer_count': 0, 'answer_points': 0, 'question_count': 2, 'question_score': 6}, 'datatable': {'answer_count': 0, 'answer_points': 0, 'question_count': 1, 'question_score': 2}, 'web-config': {'answer_count': 0, 'answer_points': 0, 'question_count': 1, 'question_score': 0}, 'datalist': {'answer_count': 0, 'answer_points': 0, 'question_count': 5, 'question_score': 8}, 'count': {'answer_count': 0, 'answer_points': 0, 'question_count': 2, 'question_score': 16}, 'range': {'answer_count': 0, 'answer_points': 0, 'question_count': 1, 'question_score': 2}, 'confirm': {'answer_count': 0, 'answer_points': 0, 'question_count': 1, 'question_score': 3}, 'jquery': {'answer_count': 0, 'answer_points': 0, 'question_count': 4, 'question_score': 5}, 'ios5': {'answer_count': 1, 'answer_points': 0, 'question_count': 1, 'question_score': 4}, 'button': {'answer_count': 0, 'answer_points': 0, 'question_count': 1, 'question_score': 2}, 'lines': {'answer_count': 0, 'answer_points': 0, 'question_count': 1, 'question_score': 5}, 'objective-c': {'answer_count': 1, 'answer_points': 0, 'question_count': 3, 'question_score': 6}, 'drop-down-menu': {'answer_count': 1, 'answer_points': 0, 'question_count': 1, 'question_score': 0}, 'toggle': {'answer_count': 0, 'answer_points': 0, 'question_count': 1, 'question_score': 2}, 'executereader': {'answer_count': 0, 'answer_points': 0, 'question_count': 1, 'question_score': 1}}, {'dialog': {'answer_count': 1, 'answer_points': 15, 'question_count': 0, 'question_score': 0}, '.net': {'answer_count': 1, 'answer_points': 4, 'question_count': 0, 'question_score': 0}, 'asp.net-mvc': {'answer_count': 1, 'answer_points': 4, 'question_count': 0, 'question_score': 0}, 'wpf': {'answer_count': 1, 'answer_points': 15, 'question_count': 0, 'question_score': 0}, 'c#-4.0': {'answer_count': 1, 'answer_points': 4, 'question_count': 0, 'question_score': 0}, 'wcf': {'answer_count': 1, 'answer_points': 4, 'question_count': 0, 'question_score': 0}}, {'java': {'answer_count': 3, 'answer_points': 1, 'question_count': 20, 'question_score': 13}, 'smtp': {'answer_count': 1, 'answer_points': 1, 'question_count': 1, 'question_score': 0}, 'javascript': {'answer_count': 0, 'answer_points': 0, 'question_count': 3, 'question_score': 0}, 'np': {'answer_count': 0, 'answer_points': 0, 'question_count': 2, 'question_score': 1}, 'matlab': {'answer_count': 1, 'answer_points': 1, 'question_count': 5, 'question_score': 12}, 'wget': {'answer_count': 1, 'answer_points': 1, 'question_count': 1, 'question_score': 0}, 'radio-button': {'answer_count': 0, 'answer_points': 0, 'question_count': 3, 'question_score': 9}, 'multithreading': {'answer_count': 0, 'answer_points': 0, 'question_count': 2, 'question_score': 0}, 'bash': {'answer_count': 1, 'answer_points': 1, 'question_count': 5, 'question_score': 3}, 'label': {'answer_count': 1, 'answer_points': 1, 'question_count': 1, 'question_score': 1}, 'events': {'answer_count': 0, 'answer_points': 0, 'question_count': 3, 'question_score': 15}, 'object': {'answer_count': 0, 'answer_points': 0, 'question_count': 2, 'question_score': 0}, 'string': {'answer_count': 1, 'answer_points': 1, 'question_count': 4, 'question_score': 4}, 'angularjs': {'answer_count': 1, 'answer_points': 0, 'question_count': 24, 'question_score': 40}, 'sed': {'answer_count': 0, 'answer_points': 0, 'question_count': 3, 'question_score': 4}, 'task': {'answer_count': 0, 'answer_points': 0, 'question_count': 2, 'question_score': 2}, 'shell': {'answer_count': 1, 'answer_points': 1, 'question_count': 2, 'question_score': 0}, 'linux': {'answer_count': 0, 'answer_points': 0, 'question_count': 7, 'question_score': 7}, 'c++': {'answer_count': 0, 'answer_points': 0, 'question_count': 3, 'question_score': 10}, 'mapreduce': {'answer_count': 0, 'answer_points': 0, 'question_count': 2, 'question_score': 1}, 'plot': {'answer_count': 1, 'answer_points': 1, 'question_count': 2, 'question_score': 2}, 'html': {'answer_count': 1, 'answer_points': 0, 'question_count': 5, 'question_score': 8}, 'cplex': {'answer_count': 0, 'answer_points': 0, 'question_count': 3, 'question_score': 3}, 'sockets': {'answer_count': 0, 'answer_points': 0, 'question_count': 2, 'question_score': 1}, 'docker': {'answer_count': 1, 'answer_points': 1, 'question_count': 2, 'question_score': 1}, 'hadoop': {'answer_count': 1, 'answer_points': 0, 'question_count': 4, 'question_score': 1}, 'multidimensional-array': {'answer_count': 0, 'answer_points': 0, 'question_count': 3, 'question_score': 7}, 'virtual-machine': {'answer_count': 0, 'answer_points': 0, 'question_count': 2, 'question_score': 1}, 'amazon-ec2': {'answer_count': 1, 'answer_points': 1, 'question_count': 2, 'question_score': 0}, 'cpu': {'answer_count': 0, 'answer_points': 0, 'question_count': 5, 'question_score': 13}, 'pthreads': {'answer_count': 0, 'answer_points': 0, 'question_count': 3, 'question_score': 1}, 'loops': {'answer_count': 0, 'answer_points': 0, 'question_count': 2, 'question_score': 3}, 'contains': {'answer_count': 1, 'answer_points': 1, 'question_count': 1, 'question_score': 3}, 'file': {'answer_count': 0, 'answer_points': 0, 'question_count': 4, 'question_score': 2}, 'proc': {'answer_count': 0, 'answer_points': 0, 'question_count': 2, 'question_score': 0}, 'arguments': {'answer_count': 0, 'answer_points': 0, 'question_count': 2, 'question_score': 0}, 'substring': {'answer_count': 1, 'answer_points': 1, 'question_count': 1, 'question_score': 3}, 'android': {'answer_count': 0, 'answer_points': 0, 'question_count': 4, 'question_score': 2}, 'linux-kernel': {'answer_count': 0, 'answer_points': 0, 'question_count': 2, 'question_score': 3}, 'unix': {'answer_count': 0, 'answer_points': 0, 'question_count': 2, 'question_score': 3}, 'https': {'answer_count': 1, 'answer_points': 1, 'question_count': 1, 'question_score': 0}, 'html-table': {'answer_count': 1, 'answer_points': 0, 'question_count': 3, 'question_score': 7}, 'linked-list': {'answer_count': 0, 'answer_points': 0, 'question_count': 2, 'question_score': 0}, 'crontab': {'answer_count': 0, 'answer_points': 0, 'question_count': 2, 'question_score': 3}, 'code-review': {'answer_count': 1, 'answer_points': 1, 'question_count': 1, 'question_score': 0}, 'http': {'answer_count': 0, 'answer_points': 0, 'question_count': 3, 'question_score': 1}, 'np-hard': {'answer_count': 0, 'answer_points': 0, 'question_count': 2, 'question_score': 1}, 'kernel': {'answer_count': 0, 'answer_points': 0, 'question_count': 2, 'question_score': 0}, 'gerrit': {'answer_count': 1, 'answer_points': 1, 'question_count': 1, 'question_score': 0}, 'email': {'answer_count': 0, 'answer_points': 0, 'question_count': 3, 'question_score': 4}, 'np-complete': {'answer_count': 0, 'answer_points': 0, 'question_count': 2, 'question_score': 1}, 'serialization': {'answer_count': 0, 'answer_points': 0, 'question_count': 2, 'question_score': 0}}, {'android': {'answer_count': 6, 'answer_points': 7, 'question_count': 1, 'question_score': 1}, 'database': {'answer_count': 1, 'answer_points': 2, 'question_count': 0, 'question_score': 0}, 'xml-rpc': {'answer_count': 1, 'answer_points': 1, 'question_count': 0, 'question_score': 0}, 'google-maps-api-3': {'answer_count': 0, 'answer_points': 0, 'question_count': 1, 'question_score': 0}, 'google-play': {'answer_count': 1, 'answer_points': 2, 'question_count': 0, 'question_score': 0}, 'arrays': {'answer_count': 1, 'answer_points': 2, 'question_count': 0, 'question_score': 0}, 'wordpress': {'answer_count': 1, 'answer_points': 1, 'question_count': 0, 'question_score': 0}, 'google-fusion-tables': {'answer_count': 1, 'answer_points': 1, 'question_count': 1, 'question_score': 0}, 'android-layout': {'answer_count': 1, 'answer_points': 2, 'question_count': 0, 'question_score': 0}, 'web-scraping': {'answer_count': 1, 'answer_points': 2, 'question_count': 0, 'question_score': 0}, 'zend-framework': {'answer_count': 1, 'answer_points': 0, 'question_count': 0, 'question_score': 0}, 'android-image': {'answer_count': 1, 'answer_points': 1, 'question_count': 0, 'question_score': 0}, 'java': {'answer_count': 1, 'answer_points': 2, 'question_count': 0, 'question_score': 0}, 'php': {'answer_count': 2, 'answer_points': 1, 'question_count': 0, 'question_score': 0}, 'button': {'answer_count': 0, 'answer_points': 0, 'question_count': 1, 'question_score': 1}, 'sql': {'answer_count': 1, 'answer_points': 2, 'question_count': 0, 'question_score': 0}, 'sqlite': {'answer_count': 1, 'answer_points': 1, 'question_count': 0, 'question_score': 0}, 'android-tablelayout': {'answer_count': 0, 'answer_points': 0, 'question_count': 1, 'question_score': 1}}, {'eclipse': {'answer_count': 3, 'answer_points': 41, 'question_count': 5, 'question_score': 4}, 'java-8': {'answer_count': 3, 'answer_points': 3, 'question_count': 12, 'question_score': 11}, 'javascript': {'answer_count': 1, 'answer_points': 0, 'question_count': 11, 'question_score': 14}, 'gradle': {'answer_count': 1, 'answer_points': 0, 'question_count': 3, 'question_score': 2}, 'maven': {'answer_count': 1, 'answer_points': 39, 'question_count': 1, 'question_score': 0}, 'spring-mvc': {'answer_count': 2, 'answer_points': 2, 'question_count': 10, 'question_score': 13}, 'hibernate': {'answer_count': 2, 'answer_points': 0, 'question_count': 9, 'question_score': 5}, 'gradle-eclipse': {'answer_count': 1, 'answer_points': 0, 'question_count': 2, 'question_score': 1}, 'm2e': {'answer_count': 1, 'answer_points': 39, 'question_count': 0, 'question_score': 0}, 'spring-4': {'answer_count': 1, 'answer_points': 2, 'question_count': 3, 'question_score': 6}, 'android': {'answer_count': 0, 'answer_points': 0, 'question_count': 11, 'question_score': 7}, 'xml': {'answer_count': 1, 'answer_points': 0, 'question_count': 2, 'question_score': 0}, 'dwm': {'answer_count': 1, 'answer_points': 39, 'question_count': 0, 'question_score': 0}, 'jquery': {'answer_count': 3, 'answer_points': 1, 'question_count': 43, 'question_score': 75}, 'css': {'answer_count': 1, 'answer_points': 0, 'question_count': 9, 'question_score': 10}, 'sql-server-2012': {'answer_count': 1, 'answer_points': 0, 'question_count': 2, 'question_score': 2}, 'glassfish-3': {'answer_count': 2, 'answer_points': 18, 'question_count': 7, 'question_score': 14}, 'spring-data-jpa': {'answer_count': 1, 'answer_points': 1, 'question_count': 10, 'question_score': 28}, 'jpa-2.0': {'answer_count': 1, 'answer_points': 0, 'question_count': 7, 'question_score': 13}, 'hibernate-5.x': {'answer_count': 0, 'answer_points': 0, 'question_count': 3, 'question_score': 4}, 'jsf-2': {'answer_count': 11, 'answer_points': 16, 'question_count': 49, 'question_score': 153}, 'jquery-selectors': {'answer_count': 1, 'answer_points': 1, 'question_count': 5, 'question_score': 3}, 'jpa-2.1': {'answer_count': 0, 'answer_points': 0, 'question_count': 7, 'question_score': 16}, 'hibernate-entitymanager': {'answer_count': 0, 'answer_points': 0, 'question_count': 3, 'question_score': 8}, 'spring-boot': {'answer_count': 1, 'answer_points': 8, 'question_count': 0, 'question_score': 0}, 'web-services': {'answer_count': 1, 'answer_points': 1, 'question_count': 2, 'question_score': 0}, 'maven-3': {'answer_count': 0, 'answer_points': 0, 'question_count': 6, 'question_score': 8}, 'regex': {'answer_count': 0, 'answer_points': 0, 'question_count': 3, 'question_score': 1}, 'primefaces': {'answer_count': 6, 'answer_points': 6, 'question_count': 19, 'question_score': 17}, 'axis2': {'answer_count': 1, 'answer_points': 1, 'question_count': 1, 'question_score': 0}, 'jquery-plugins': {'answer_count': 0, 'answer_points': 0, 'question_count': 6, 'question_score': 30}, 'jsf-1.2': {'answer_count': 0, 'answer_points': 0, 'question_count': 3, 'question_score': 1}, 'java': {'answer_count': 8, 'answer_points': 5, 'question_count': 44, 'question_score': 59}, '.class-file': {'answer_count': 1, 'answer_points': 1, 'question_count': 1, 'question_score': 1}, 'java-stream': {'answer_count': 1, 'answer_points': 0, 'question_count': 5, 'question_score': 2}, 'jsp': {'answer_count': 0, 'answer_points': 0, 'question_count': 3, 'question_score': 1}, 'spring': {'answer_count': 2, 'answer_points': 5, 'question_count': 19, 'question_score': 28}, 'hashmap': {'answer_count': 1, 'answer_points': 1, 'question_count': 0, 'question_score': 0}, 'collections': {'answer_count': 1, 'answer_points': 0, 'question_count': 4, 'question_score': 1}, 'jsf': {'answer_count': 0, 'answer_points': 0, 'question_count': 3, 'question_score': 5}, 'java-ee': {'answer_count': 2, 'answer_points': 5, 'question_count': 4, 'question_score': 4}, 'collectors': {'answer_count': 1, 'answer_points': 1, 'question_count': 0, 'question_score': 0}, 'jdbc': {'answer_count': 1, 'answer_points': 0, 'question_count': 4, 'question_score': 4}, 'jaxb': {'answer_count': 0, 'answer_points': 0, 'question_count': 3, 'question_score': 3}, 'dependency-injection': {'answer_count': 1, 'answer_points': 4, 'question_count': 0, 'question_score': 0}, 'sql': {'answer_count': 2, 'answer_points': 0, 'question_count': 19, 'question_score': 15}, 'xsd': {'answer_count': 0, 'answer_points': 0, 'question_count': 5, 'question_score': 7}, 'html': {'answer_count': 0, 'answer_points': 0, 'question_count': 3, 'question_score': 1}, 'jdbctemplate': {'answer_count': 1, 'answer_points': 4, 'question_count': 0, 'question_score': 0}, 'oracle11g': {'answer_count': 2, 'answer_points': 0, 'question_count': 16, 'question_score': 15}, 'jquery-ui': {'answer_count': 0, 'answer_points': 0, 'question_count': 4, 'question_score': 5}, 'spring-ws': {'answer_count': 0, 'answer_points': 0, 'question_count': 3, 'question_score': 4}}, {'html': {'answer_count': 11, 'answer_points': 31, 'question_count': 0, 'question_score': 0}, 'progressive-enhancement': {'answer_count': 1, 'answer_points': 4, 'question_count': 0, 'question_score': 0}, 'composer-php': {'answer_count': 1, 'answer_points': 2, 'question_count': 0, 'question_score': 0}, 'string': {'answer_count': 2, 'answer_points': 1, 'question_count': 0, 'question_score': 0}, 'php': {'answer_count': 23, 'answer_points': 26, 'question_count': 3, 'question_score': 4}, 'graceful-degradation': {'answer_count': 1, 'answer_points': 4, 'question_count': 0, 'question_score': 0}, 'blade': {'answer_count': 1, 'answer_points': 2, 'question_count': 0, 'question_score': 0}, 'twitter-bootstrap': {'answer_count': 1, 'answer_points': 1, 'question_count': 0, 'question_score': 0}, 'jquery': {'answer_count': 5, 'answer_points': 20, 'question_count': 0, 'question_score': 0}, 'forms': {'answer_count': 1, 'answer_points': 4, 'question_count': 0, 'question_score': 0}, 'laravel': {'answer_count': 1, 'answer_points': 2, 'question_count': 0, 'question_score': 0}, 'accordion': {'answer_count': 1, 'answer_points': 1, 'question_count': 0, 'question_score': 0}, 'drupal-7': {'answer_count': 1, 'answer_points': 16, 'question_count': 0, 'question_score': 0}, 'windows': {'answer_count': 1, 'answer_points': 3, 'question_count': 0, 'question_score': 0}, 'goto': {'answer_count': 1, 'answer_points': 2, 'question_count': 0, 'question_score': 0}, 'awstats': {'answer_count': 1, 'answer_points': 1, 'question_count': 0, 'question_score': 0}, 'drupal-views': {'answer_count': 1, 'answer_points': 16, 'question_count': 0, 'question_score': 0}, 'command-line': {'answer_count': 1, 'answer_points': 3, 'question_count': 0, 'question_score': 0}, 'lambda': {'answer_count': 1, 'answer_points': 2, 'question_count': 0, 'question_score': 0}, 'phar': {'answer_count': 1, 'answer_points': 1, 'question_count': 0, 'question_score': 0}, 'javascript': {'answer_count': 8, 'answer_points': 13, 'question_count': 0, 'question_score': 0}, 'arrays': {'answer_count': 1, 'answer_points': 3, 'question_count': 0, 'question_score': 0}, 'performance': {'answer_count': 1, 'answer_points': 2, 'question_count': 0, 'question_score': 0}, 'phpunit': {'answer_count': 1, 'answer_points': 1, 'question_count': 0, 'question_score': 0}, 'css': {'answer_count': 6, 'answer_points': 11, 'question_count': 0, 'question_score': 0}, 'associative-array': {'answer_count': 1, 'answer_points': 3, 'question_count': 0, 'question_score': 0}, 'yslow': {'answer_count': 1, 'answer_points': 2, 'question_count': 0, 'question_score': 0}, 'phpstorm': {'answer_count': 1, 'answer_points': 1, 'question_count': 0, 'question_score': 0}, 'gzip': {'answer_count': 1, 'answer_points': 5, 'question_count': 0, 'question_score': 0}, 'heredoc': {'answer_count': 1, 'answer_points': 3, 'question_count': 0, 'question_score': 0}, 'styles': {'answer_count': 1, 'answer_points': 2, 'question_count': 0, 'question_score': 0}, 'converter': {'answer_count': 1, 'answer_points': 1, 'question_count': 0, 'question_score': 0}, 'archive': {'answer_count': 1, 'answer_points': 5, 'question_count': 0, 'question_score': 0}, 'shorthand-if': {'answer_count': 1, 'answer_points': 3, 'question_count': 0, 'question_score': 0}, 'github': {'answer_count': 1, 'answer_points': 2, 'question_count': 0, 'question_score': 0}, 'entity': {'answer_count': 1, 'answer_points': 1, 'question_count': 0, 'question_score': 0}, 'gz': {'answer_count': 1, 'answer_points': 5, 'question_count': 0, 'question_score': 0}, 'multiline': {'answer_count': 1, 'answer_points': 3, 'question_count': 0, 'question_score': 0}, 'netbeans': {'answer_count': 1, 'answer_points': 2, 'question_count': 0, 'question_score': 0}, 'xml': {'answer_count': 1, 'answer_points': 1, 'question_count': 0, 'question_score': 0}, 'tar': {'answer_count': 1, 'answer_points': 5, 'question_count': 0, 'question_score': 0}, 'coding-style': {'answer_count': 1, 'answer_points': 3, 'question_count': 0, 'question_score': 0}, 'time': {'answer_count': 1, 'answer_points': 2, 'question_count': 0, 'question_score': 0}, 'ckeditor': {'answer_count': 1, 'answer_points': 1, 'question_count': 0, 'question_score': 0}, 'barcode-scanner': {'answer_count': 1, 'answer_points': 5, 'question_count': 0, 'question_score': 0}, 'mysql': {'answer_count': 4, 'answer_points': 2, 'question_count': 0, 'question_score': 0}, 'date': {'answer_count': 1, 'answer_points': 2, 'question_count': 0, 'question_score': 0}, 'ajax': {'answer_count': 1, 'answer_points': 1, 'question_count': 0, 'question_score': 0}, 'input': {'answer_count': 1, 'answer_points': 5, 'question_count': 0, 'question_score': 0}, 'indentation': {'answer_count': 2, 'answer_points': 2, 'question_count': 0, 'question_score': 0}, 'constructor': {'answer_count': 1, 'answer_points': 1, 'question_count': 1, 'question_score': 0}, 'json': {'answer_count': 1, 'answer_points': 1, 'question_count': 0, 'question_score': 0}}, {'android': {'answer_count': 2, 'answer_points': 5, 'question_count': 0, 'question_score': 0}, 'drag-and-drop': {'answer_count': 1, 'answer_points': 3, 'question_count': 0, 'question_score': 0}, 'gmgridviewcell': {'answer_count': 1, 'answer_points': 2, 'question_count': 0, 'question_score': 0}, 'ecmascript-6': {'answer_count': 1, 'answer_points': 0, 'question_count': 0, 'question_score': 0}, 'ios': {'answer_count': 2, 'answer_points': 3, 'question_count': 1, 'question_score': 1}, 'android-studio': {'answer_count': 1, 'answer_points': 3, 'question_count': 0, 'question_score': 0}, 'intellij-idea': {'answer_count': 1, 'answer_points': 0, 'question_count': 1, 'question_score': 0}, 'image': {'answer_count': 1, 'answer_points': 0, 'question_count': 0, 'question_score': 0}, 'objective-c': {'answer_count': 1, 'answer_points': 3, 'question_count': 1, 'question_score': 1}, 'uitableview': {'answer_count': 2, 'answer_points': 2, 'question_count': 0, 'question_score': 0}, 'maven-plugin': {'answer_count': 1, 'answer_points': 0, 'question_count': 0, 'question_score': 0}, 'scale': {'answer_count': 1, 'answer_points': 0, 'question_count': 0, 'question_score': 0}, 'ipad': {'answer_count': 1, 'answer_points': 3, 'question_count': 1, 'question_score': 1}, 'audio': {'answer_count': 1, 'answer_points': 2, 'question_count': 0, 'question_score': 0}, 'traceur': {'answer_count': 1, 'answer_points': 0, 'question_count': 0, 'question_score': 0}, 'pdf': {'answer_count': 1, 'answer_points': 0, 'question_count': 0, 'question_score': 0}, 'fragment': {'answer_count': 1, 'answer_points': 3, 'question_count': 0, 'question_score': 0}, 'gmgridview': {'answer_count': 1, 'answer_points': 2, 'question_count': 0, 'question_score': 0}, 'babeljs': {'answer_count': 1, 'answer_points': 0, 'question_count': 0, 'question_score': 0}, 'java': {'answer_count': 1, 'answer_points': 0, 'question_count': 0, 'question_score': 0}, 'android-layout': {'answer_count': 1, 'answer_points': 3, 'question_count': 0, 'question_score': 0}, 'cell': {'answer_count': 1, 'answer_points': 2, 'question_count': 0, 'question_score': 0}, 'maven': {'answer_count': 1, 'answer_points': 0, 'question_count': 0, 'question_score': 0}, 'fonts': {'answer_count': 1, 'answer_points': 0, 'question_count': 0, 'question_score': 0}}, {'python': {'answer_count': 5, 'answer_points': 1, 'question_count': 2, 'question_score': 10}, 'arrays': {'answer_count': 1, 'answer_points': 0, 'question_count': 0, 'question_score': 0}, 'cakephp': {'answer_count': 0, 'answer_points': 0, 'question_count': 1, 'question_score': 0}, 'dictionary-comprehension': {'answer_count': 0, 'answer_points': 0, 'question_count': 1, 'question_score': 5}, 'prime-factoring': {'answer_count': 1, 'answer_points': 1, 'question_count': 0, 'question_score': 0}, 'lambda': {'answer_count': 1, 'answer_points': 0, 'question_count': 0, 'question_score': 0}, 'model': {'answer_count': 0, 'answer_points': 0, 'question_count': 1, 'question_score': 0}, 'prefixes': {'answer_count': 1, 'answer_points': 0, 'question_count': 0, 'question_score': 0}, 'css': {'answer_count': 1, 'answer_points': 1, 'question_count': 0, 'question_score': 0}, 'rgb': {'answer_count': 1, 'answer_points': 0, 'question_count': 0, 'question_score': 0}, 'relationship': {'answer_count': 0, 'answer_points': 0, 'question_count': 1, 'question_score': 0}, 'html': {'answer_count': 1, 'answer_points': 1, 'question_count': 0, 'question_score': 0}, 'vector': {'answer_count': 1, 'answer_points': 0, 'question_count': 0, 'question_score': 0}, 'string-formatting': {'answer_count': 0, 'answer_points': 0, 'question_count': 1, 'question_score': 5}, 'image': {'answer_count': 1, 'answer_points': 0, 'question_count': 0, 'question_score': 0}, 'matlab': {'answer_count': 1, 'answer_points': 0, 'question_count': 0, 'question_score': 0}, 'syntax-error': {'answer_count': 0, 'answer_points': 0, 'question_count': 1, 'question_score': 5}}, {'laravel-5': {'answer_count': 1, 'answer_points': 2, 'question_count': 4, 'question_score': 4}, '.net': {'answer_count': 1, 'answer_points': 0, 'question_count': 2, 'question_score': 3}, 'mysql': {'answer_count': 0, 'answer_points': 0, 'question_count': 2, 'question_score': 1}, 'curve': {'answer_count': 0, 'answer_points': 0, 'question_count': 1, 'question_score': 1}, 'php': {'answer_count': 1, 'answer_points': 2, 'question_count': 3, 'question_score': 1}, 'ceph': {'answer_count': 1, 'answer_points': 0, 'question_count': 2, 'question_score': 0}, 'awk': {'answer_count': 0, 'answer_points': 0, 'question_count': 2, 'question_score': 2}, 'hbase': {'answer_count': 0, 'answer_points': 0, 'question_count': 1, 'question_score': 6}, 'python': {'answer_count': 1, 'answer_points': 2, 'question_count': 3, 'question_score': 5}, 'ubuntu-14.04': {'answer_count': 1, 'answer_points': 0, 'question_count': 2, 'question_score': 0}, 'openshift': {'answer_count': 0, 'answer_points': 0, 'question_count': 2, 'question_score': 0}, 'eclipse': {'answer_count': 0, 'answer_points': 0, 'question_count': 1, 'question_score': 0}, 'maatwebsite-excel': {'answer_count': 1, 'answer_points': 2, 'question_count': 1, 'question_score': 3}, 'c++': {'answer_count': 1, 'answer_points': 0, 'question_count': 1, 'question_score': 0}, 'git': {'answer_count': 0, 'answer_points': 0, 'question_count': 2, 'question_score': 0}, 'maven': {'answer_count': 0, 'answer_points': 0, 'question_count': 1, 'question_score': 0}, 'laravel': {'answer_count': 1, 'answer_points': 2, 'question_count': 1, 'question_score': 3}, 'ubuntu': {'answer_count': 1, 'answer_points': 0, 'question_count': 1, 'question_score': 0}, 'riak': {'answer_count': 0, 'answer_points': 0, 'question_count': 2, 'question_score': 0}, 'hadoop': {'answer_count': 0, 'answer_points': 0, 'question_count': 1, 'question_score': 0}, 'multidimensional-array': {'answer_count': 1, 'answer_points': 2, 'question_count': 0, 'question_score': 0}, 'extjs': {'answer_count': 1, 'answer_points': 0, 'question_count': 1, 'question_score': 2}, 'rebar': {'answer_count': 0, 'answer_points': 0, 'question_count': 1, 'question_score': 0}, 'eclipse-plugin': {'answer_count': 0, 'answer_points': 0, 'question_count': 1, 'question_score': 0}, 'gnuplot': {'answer_count': 0, 'answer_points': 0, 'question_count': 22, 'question_score': 32}, 'javascript': {'answer_count': 1, 'answer_points': 0, 'question_count': 1, 'question_score': 2}, 'laravel-5.2': {'answer_count': 0, 'answer_points': 0, 'question_count': 1, 'question_score': 2}, 'database': {'answer_count': 0, 'answer_points': 0, 'question_count': 1, 'question_score': 0}, 'graph': {'answer_count': 0, 'answer_points': 0, 'question_count': 10, 'question_score': 9}, 'asp-classic': {'answer_count': 1, 'answer_points': 0, 'question_count': 1, 'question_score': 2}, 'php-7': {'answer_count': 0, 'answer_points': 0, 'question_count': 1, 'question_score': 2}, 'matrix': {'answer_count': 0, 'answer_points': 0, 'question_count': 1, 'question_score': 1}, 'c#': {'answer_count': 1, 'answer_points': 0, 'question_count': 4, 'question_score': 4}, 'printf': {'answer_count': 0, 'answer_points': 0, 'question_count': 2, 'question_score': 4}, 'migration': {'answer_count': 0, 'answer_points': 0, 'question_count': 1, 'question_score': 0}, 'sql-server': {'answer_count': 0, 'answer_points': 0, 'question_count': 1, 'question_score': 1}, 'heatmap': {'answer_count': 0, 'answer_points': 0, 'question_count': 4, 'question_score': 10}, 'erlang': {'answer_count': 0, 'answer_points': 0, 'question_count': 2, 'question_score': 0}, 'database-migration': {'answer_count': 0, 'answer_points': 0, 'question_count': 1, 'question_score': 0}, 'collections': {'answer_count': 0, 'answer_points': 0, 'question_count': 1, 'question_score': 1}, 'bar-chart': {'answer_count': 0, 'answer_points': 0, 'question_count': 4, 'question_score': 6}, 'histogram': {'answer_count': 0, 'answer_points': 0, 'question_count': 2, 'question_score': 3}, 'legend': {'answer_count': 0, 'answer_points': 0, 'question_count': 1, 'question_score': 3}, '.net-2.0': {'answer_count': 0, 'answer_points': 0, 'question_count': 1, 'question_score': 1}, 'dictionary': {'answer_count': 0, 'answer_points': 0, 'question_count': 3, 'question_score': 4}, 'stacked': {'answer_count': 0, 'answer_points': 0, 'question_count': 2, 'question_score': 3}, 'latex': {'answer_count': 0, 'answer_points': 0, 'question_count': 1, 'question_score': 0}, 'date': {'answer_count': 0, 'answer_points': 0, 'question_count': 1, 'question_score': 1}, 'stacked-chart': {'answer_count': 0, 'answer_points': 0, 'question_count': 3, 'question_score': 2}, 'sql-server-ce': {'answer_count': 0, 'answer_points': 0, 'question_count': 2, 'question_score': 1}, 'stacked-area-chart': {'answer_count': 0, 'answer_points': 0, 'question_count': 1, 'question_score': 1}, 'list': {'answer_count': 0, 'answer_points': 0, 'question_count': 1, 'question_score': 3}}, {'http': {'answer_count': 1, 'answer_points': 115, 'question_count': 0, 'question_score': 0}, 'image': {'answer_count': 1, 'answer_points': 6, 'question_count': 0, 'question_score': 0}, 'dom': {'answer_count': 1, 'answer_points': 1, 'question_count': 0, 'question_score': 0}, 'xampp': {'answer_count': 1, 'answer_points': 0, 'question_count': 1, 'question_score': 0}, 'definition': {'answer_count': 1, 'answer_points': 115, 'question_count': 0, 'question_score': 0}, 'jquery': {'answer_count': 14, 'answer_points': 4, 'question_count': 6, 'question_score': 2}, 'notifications': {'answer_count': 1, 'answer_points': 1, 'question_count': 0, 'question_score': 0}, 'localhost': {'answer_count': 1, 'answer_points': 0, 'question_count': 1, 'question_score': 0}, 'rest': {'answer_count': 1, 'answer_points': 115, 'question_count': 0, 'question_score': 0}, 'jsf': {'answer_count': 3, 'answer_points': 3, 'question_count': 0, 'question_score': 0}, 'richfaces': {'answer_count': 1, 'answer_points': 1, 'question_count': 0, 'question_score': 0}, 'iphone': {'answer_count': 1, 'answer_points': 0, 'question_count': 1, 'question_score': 1}, 'javascript': {'answer_count': 24, 'answer_points': 18, 'question_count': 14, 'question_score': 41}, 'forms': {'answer_count': 2, 'answer_points': 2, 'question_count': 0, 'question_score': 0}, 'twitter-bootstrap': {'answer_count': 1, 'answer_points': 1, 'question_count': 0, 'question_score': 0}, 'ipad': {'answer_count': 1, 'answer_points': 0, 'question_count': 1, 'question_score': 1}, 'css': {'answer_count': 26, 'answer_points': 14, 'question_count': 4, 'question_score': 0}, 'python': {'answer_count': 1, 'answer_points': 2, 'question_count': 0, 'question_score': 0}, 'date-format': {'answer_count': 1, 'answer_points': 1, 'question_count': 0, 'question_score': 0}, 'include': {'answer_count': 1, 'answer_points': 0, 'question_count': 0, 'question_score': 0}, 'html': {'answer_count': 21, 'answer_points': 14, 'question_count': 2, 'question_score': 2}, 'media-queries': {'answer_count': 1, 'answer_points': 2, 'question_count': 0, 'question_score': 0}, 'html-email': {'answer_count': 1, 'answer_points': 1, 'question_count': 0, 'question_score': 0}, 'width': {'answer_count': 1, 'answer_points': 0, 'question_count': 0, 'question_score': 0}, 'internet-explorer': {'answer_count': 3, 'answer_points': 13, 'question_count': 2, 'question_score': 0}, 'table': {'answer_count': 1, 'answer_points': 2, 'question_count': 0, 'question_score': 0}, 'navbar': {'answer_count': 1, 'answer_points': 1, 'question_count': 0, 'question_score': 0}, 'dreamweaver': {'answer_count': 1, 'answer_points': 0, 'question_count': 0, 'question_score': 0}, 'css3': {'answer_count': 5, 'answer_points': 12, 'question_count': 3, 'question_score': 0}, 'jquery-ui': {'answer_count': 2, 'answer_points': 1, 'question_count': 1, 'question_score': 0}, 'vagrant': {'answer_count': 1, 'answer_points': 1, 'question_count': 0, 'question_score': 0}, 'photoshop': {'answer_count': 1, 'answer_points': 0, 'question_count': 0, 'question_score': 0}, 'internet-explorer-8': {'answer_count': 1, 'answer_points': 12, 'question_count': 1, 'question_score': 0}, 'css-transitions': {'answer_count': 1, 'answer_points': 1, 'question_count': 2, 'question_score': 1}, 'installation': {'answer_count': 1, 'answer_points': 1, 'question_count': 0, 'question_score': 0}, 'datatable': {'answer_count': 1, 'answer_points': 0, 'question_count': 0, 'question_score': 0}, 'html5': {'answer_count': 9, 'answer_points': 7, 'question_count': 0, 'question_score': 0}, 'firebug': {'answer_count': 1, 'answer_points': 1, 'question_count': 1, 'question_score': 14}, 'google-visualization': {'answer_count': 1, 'answer_points': 0, 'question_count': 1, 'question_score': 0}, 'placeholder': {'answer_count': 1, 'answer_points': 0, 'question_count': 0, 'question_score': 0}, 'flash': {'answer_count': 1, 'answer_points': 7, 'question_count': 0, 'question_score': 0}, 'google-chrome-devtools': {'answer_count': 1, 'answer_points': 1, 'question_count': 1, 'question_score': 0}, 'document-root': {'answer_count': 1, 'answer_points': 0, 'question_count': 1, 'question_score': 0}, 'uiwebview': {'answer_count': 1, 'answer_points': 0, 'question_count': 0, 'question_score': 0}, 'fusioncharts': {'answer_count': 1, 'answer_points': 7, 'question_count': 0, 'question_score': 0}, 'java': {'answer_count': 1, 'answer_points': 1, 'question_count': 1, 'question_score': 0}, 'apache2': {'answer_count': 1, 'answer_points': 0, 'question_count': 1, 'question_score': 0}, 'safari': {'answer_count': 1, 'answer_points': 0, 'question_count': 0, 'question_score': 0}, 'highcharts': {'answer_count': 1, 'answer_points': 7, 'question_count': 0, 'question_score': 0}, 'tags': {'answer_count': 1, 'answer_points': 1, 'question_count': 0, 'question_score': 0}, 'apache': {'answer_count': 1, 'answer_points': 0, 'question_count': 1, 'question_score': 0}, 'margin': {'answer_count': 1, 'answer_points': 0, 'question_count': 0, 'question_score': 0}}, {'java': {'answer_count': 6, 'answer_points': 13, 'question_count': 1, 'question_score': 2}, 'grayscale': {'answer_count': 1, 'answer_points': 4, 'question_count': 0, 'question_score': 0}, 'io': {'answer_count': 1, 'answer_points': 1, 'question_count': 0, 'question_score': 0}, 'selenium': {'answer_count': 0, 'answer_points': 0, 'question_count': 1, 'question_score': 1}, 'image-processing': {'answer_count': 6, 'answer_points': 10, 'question_count': 0, 'question_score': 0}, 'groovy': {'answer_count': 1, 'answer_points': 3, 'question_count': 0, 'question_score': 0}, 'websphere-liberty': {'answer_count': 1, 'answer_points': 1, 'question_count': 0, 'question_score': 0}, 'hue': {'answer_count': 1, 'answer_points': 0, 'question_count': 0, 'question_score': 0}, 'if-statement': {'answer_count': 1, 'answer_points': 7, 'question_count': 0, 'question_score': 0}, 'freeswitch': {'answer_count': 1, 'answer_points': 2, 'question_count': 0, 'question_score': 0}, 'linux': {'answer_count': 1, 'answer_points': 1, 'question_count': 0, 'question_score': 0}, 'database': {'answer_count': 1, 'answer_points': 0, 'question_count': 0, 'question_score': 0}, 'hsv': {'answer_count': 2, 'answer_points': 5, 'question_count': 0, 'question_score': 0}, 'voip': {'answer_count': 1, 'answer_points': 2, 'question_count': 0, 'question_score': 0}, 'php': {'answer_count': 1, 'answer_points': 1, 'question_count': 0, 'question_score': 0}, 'javascript': {'answer_count': 1, 'answer_points': 0, 'question_count': 0, 'question_score': 0}, 'opencv': {'answer_count': 1, 'answer_points': 5, 'question_count': 0, 'question_score': 0}, 'playframework': {'answer_count': 2, 'answer_points': 1, 'question_count': 1, 'question_score': 1}, 'matlab': {'answer_count': 2, 'answer_points': 0, 'question_count': 0, 'question_score': 0}, 'pdf': {'answer_count': 1, 'answer_points': 0, 'question_count': 0, 'question_score': 0}, 'computer-vision': {'answer_count': 1, 'answer_points': 5, 'question_count': 0, 'question_score': 0}, 'playframework-1.x': {'answer_count': 1, 'answer_points': 1, 'question_count': 1, 'question_score': 1}, 'fusion': {'answer_count': 1, 'answer_points': 0, 'question_count': 0, 'question_score': 0}, 'typesafe-activator': {'answer_count': 1, 'answer_points': 0, 'question_count': 0, 'question_score': 0}, 'skin': {'answer_count': 1, 'answer_points': 5, 'question_count': 0, 'question_score': 0}, 'cloudant': {'answer_count': 1, 'answer_points': 1, 'question_count': 1, 'question_score': 2}, 'gaussian': {'answer_count': 1, 'answer_points': 0, 'question_count': 0, 'question_score': 0}, 'colors': {'answer_count': 2, 'answer_points': 4, 'question_count': 0, 'question_score': 0}, 'gson': {'answer_count': 1, 'answer_points': 1, 'question_count': 1, 'question_score': 2}, 'geoserver': {'answer_count': 0, 'answer_points': 0, 'question_count': 1, 'question_score': 1}, 'rgb': {'answer_count': 2, 'answer_points': 4, 'question_count': 0, 'question_score': 0}, 'couchdb': {'answer_count': 1, 'answer_points': 1, 'question_count': 1, 'question_score': 2}, 'glassfish': {'answer_count': 0, 'answer_points': 0, 'question_count': 1, 'question_score': 1}}, {'php': {'answer_count': 9, 'answer_points': 48, 'question_count': 1, 'question_score': 4}, 'emacs': {'answer_count': 2, 'answer_points': 6, 'question_count': 0, 'question_score': 0}, 'character-encoding': {'answer_count': 1, 'answer_points': 2, 'question_count': 0, 'question_score': 0}, 'database': {'answer_count': 1, 'answer_points': 1, 'question_count': 0, 'question_score': 0}, 'bittorrent': {'answer_count': 1, 'answer_points': 23, 'question_count': 0, 'question_score': 0}, 'dreamweaver': {'answer_count': 1, 'answer_points': 6, 'question_count': 0, 'question_score': 0}, '.htaccess': {'answer_count': 1, 'answer_points': 2, 'question_count': 0, 'question_score': 0}, 'security': {'answer_count': 1, 'answer_points': 1, 'question_count': 0, 'question_score': 0}, 'magnet-uri': {'answer_count': 1, 'answer_points': 23, 'question_count': 0, 'question_score': 0}, 'search': {'answer_count': 1, 'answer_points': 6, 'question_count': 0, 'question_score': 0}, 'encoding': {'answer_count': 1, 'answer_points': 2, 'question_count': 0, 'question_score': 0}, 'arrays': {'answer_count': 1, 'answer_points': 1, 'question_count': 0, 'question_score': 0}, 'fastcgi': {'answer_count': 1, 'answer_points': 19, 'question_count': 1, 'question_score': 4}, 'ide': {'answer_count': 1, 'answer_points': 6, 'question_count': 0, 'question_score': 0}, 'mod-rewrite': {'answer_count': 1, 'answer_points': 2, 'question_count': 0, 'question_score': 0}, 'ruby-on-rails': {'answer_count': 1, 'answer_points': 1, 'question_count': 0, 'question_score': 0}, 'apache': {'answer_count': 1, 'answer_points': 19, 'question_count': 0, 'question_score': 0}, 'gdb': {'answer_count': 1, 'answer_points': 5, 'question_count': 0, 'question_score': 0}, 'release-management': {'answer_count': 1, 'answer_points': 1, 'question_count': 0, 'question_score': 0}, 'effects': {'answer_count': 1, 'answer_points': 1, 'question_count': 0, 'question_score': 0}, 'wordpress': {'answer_count': 1, 'answer_points': 19, 'question_count': 0, 'question_score': 0}, 'linux': {'answer_count': 1, 'answer_points': 5, 'question_count': 0, 'question_score': 0}, 'vector': {'answer_count': 1, 'answer_points': 1, 'question_count': 0, 'question_score': 0}, 'memcached': {'answer_count': 1, 'answer_points': 1, 'question_count': 0, 'question_score': 0}, 'mod-php': {'answer_count': 1, 'answer_points': 19, 'question_count': 0, 'question_score': 0}, 'output-buffering': {'answer_count': 1, 'answer_points': 5, 'question_count': 0, 'question_score': 0}, 'merge-conflict-resolution': {'answer_count': 1, 'answer_points': 1, 'question_count': 0, 'question_score': 0}, 'python': {'answer_count': 1, 'answer_points': 1, 'question_count': 0, 'question_score': 0}, 'c++': {'answer_count': 3, 'answer_points': 16, 'question_count': 2, 'question_score': 7}, 'mysql': {'answer_count': 2, 'answer_points': 3, 'question_count': 1, 'question_score': 0}, 'git': {'answer_count': 1, 'answer_points': 1, 'question_count': 0, 'question_score': 0}, 'boost': {'answer_count': 0, 'answer_points': 0, 'question_count': 2, 'question_score': 7}, 'shell': {'answer_count': 1, 'answer_points': 13, 'question_count': 1, 'question_score': 6}, 'string': {'answer_count': 2, 'answer_points': 3, 'question_count': 1, 'question_score': 5}, 'session': {'answer_count': 1, 'answer_points': 1, 'question_count': 0, 'question_score': 0}, 'boost-phoenix': {'answer_count': 0, 'answer_points': 0, 'question_count': 1, 'question_score': 2}, 'grep': {'answer_count': 1, 'answer_points': 13, 'question_count': 0, 'question_score': 0}, 'ms-access': {'answer_count': 1, 'answer_points': 2, 'question_count': 0, 'question_score': 0}, 'caching': {'answer_count': 1, 'answer_points': 1, 'question_count': 0, 'question_score': 0}, 'xargs': {'answer_count': 0, 'answer_points': 0, 'question_count': 1, 'question_score': 6}, 'sed': {'answer_count': 1, 'answer_points': 13, 'question_count': 0, 'question_score': 0}, 'views': {'answer_count': 1, 'answer_points': 2, 'question_count': 0, 'question_score': 0}, 'jquery': {'answer_count': 1, 'answer_points': 1, 'question_count': 0, 'question_score': 0}, 'optimization': {'answer_count': 0, 'answer_points': 0, 'question_count': 1, 'question_score': 0}, 'drupal': {'answer_count': 3, 'answer_points': 8, 'question_count': 0, 'question_score': 0}, 'panels': {'answer_count': 1, 'answer_points': 2, 'question_count': 0, 'question_score': 0}, 'open-source': {'answer_count': 1, 'answer_points': 1, 'question_count': 0, 'question_score': 0}, 'unix': {'answer_count': 0, 'answer_points': 0, 'question_count': 1, 'question_score': 6}, 'ruby': {'answer_count': 3, 'answer_points': 6, 'question_count': 0, 'question_score': 0}, 'windows': {'answer_count': 1, 'answer_points': 2, 'question_count': 0, 'question_score': 0}, 'release': {'answer_count': 1, 'answer_points': 1, 'question_count': 0, 'question_score': 0}, 'find': {'answer_count': 0, 'answer_points': 0, 'question_count': 1, 'question_score': 6}}])"
      ]
     },
     "execution_count": 9,
     "metadata": {},
     "output_type": "execute_result"
    }
   ],
   "source": [
    "d.values()"
   ]
  },
  {
   "cell_type": "code",
   "execution_count": 10,
   "metadata": {},
   "outputs": [
    {
     "data": {
      "text/plain": [
       "dict_keys(['python', 'xpath', 'solver', 'replace', 'dimple.js', 'r', 'python-3.6', 'storyboard', 'javascript', 'xml', '.net', 'elementtree', 'python-3.x', 'dataframe', 'webmatrix-3', 'python-2.7', 'theano', 'xslt-3.0', 'nuget', 'function', 'keras', 'arrays', 'theano-cuda', 'variables', 'statsmodels', 'numpy', 'windows', 'plyr', 'deep-learning', 'asp.net', 'list', 'position', 'pandas', 'c#', 'sapply', 'sequences', 'xslt-2.0', 'special-characters', 'asp.net-mvc-3', 'indexof', 'xpath-2.0', 'unicode', 'web-config', 'base-url', 'saxon', 'query-string', 'asp.net-mvc', 'map', 'xslt', 'scipy', 'key', 'subset'])"
      ]
     },
     "execution_count": 10,
     "metadata": {},
     "output_type": "execute_result"
    }
   ],
   "source": [
    "d['1000026'].keys()"
   ]
  },
  {
   "cell_type": "code",
   "execution_count": 11,
   "metadata": {},
   "outputs": [
    {
     "data": {
      "text/plain": [
       "{'answer_count': 3,\n",
       " 'answer_points': 2,\n",
       " 'question_count': 4,\n",
       " 'question_score': 5}"
      ]
     },
     "execution_count": 11,
     "metadata": {},
     "output_type": "execute_result"
    }
   ],
   "source": [
    "d['1000026']['python']"
   ]
  },
  {
   "cell_type": "code",
   "execution_count": 12,
   "metadata": {},
   "outputs": [
    {
     "data": {
      "text/plain": [
       "3"
      ]
     },
     "execution_count": 12,
     "metadata": {},
     "output_type": "execute_result"
    }
   ],
   "source": [
    "d['1000026']['python'][\"answer_count\"]"
   ]
  },
  {
   "cell_type": "markdown",
   "metadata": {
    "collapsed": true
   },
   "source": [
    "*** Answer: *** We have dictionary, for which each value itself is a dictionary, which contains dictionary again. it is like 3 dictionaries inserted to each other. "
   ]
  },
  {
   "cell_type": "markdown",
   "metadata": {},
   "source": [
    "*** Question 1: *** Make a list that contains the tags in which user '1000026' is active (asked questions or answered them). Call it 1000026_tags."
   ]
  },
  {
   "cell_type": "code",
   "execution_count": 13,
   "metadata": {},
   "outputs": [],
   "source": [
    "tags_1000026=[]\n",
    "\n",
    "for software in d['1000026']:\n",
    "    if d['1000026'][software]['answer_points'] >0 or d['1000026'][software]['question_score']:\n",
    "        tags_1000026.append(software)\n",
    "        "
   ]
  },
  {
   "cell_type": "code",
   "execution_count": 14,
   "metadata": {},
   "outputs": [
    {
     "data": {
      "text/plain": [
       "['python',\n",
       " 'xpath',\n",
       " 'replace',\n",
       " 'dimple.js',\n",
       " 'r',\n",
       " 'python-3.6',\n",
       " 'javascript',\n",
       " 'xml',\n",
       " 'elementtree',\n",
       " 'python-3.x',\n",
       " 'dataframe',\n",
       " 'python-2.7',\n",
       " 'theano',\n",
       " 'xslt-3.0',\n",
       " 'keras',\n",
       " 'arrays',\n",
       " 'statsmodels',\n",
       " 'numpy',\n",
       " 'plyr',\n",
       " 'deep-learning',\n",
       " 'position',\n",
       " 'pandas',\n",
       " 'sequences',\n",
       " 'xslt-2.0',\n",
       " 'indexof',\n",
       " 'xpath-2.0',\n",
       " 'base-url',\n",
       " 'saxon',\n",
       " 'map',\n",
       " 'xslt',\n",
       " 'key',\n",
       " 'subset']"
      ]
     },
     "execution_count": 14,
     "metadata": {},
     "output_type": "execute_result"
    }
   ],
   "source": [
    "tags_1000026"
   ]
  },
  {
   "cell_type": "code",
   "execution_count": 15,
   "metadata": {},
   "outputs": [
    {
     "data": {
      "text/plain": [
       "52"
      ]
     },
     "execution_count": 15,
     "metadata": {},
     "output_type": "execute_result"
    }
   ],
   "source": [
    "len(d['1000026'].keys())"
   ]
  },
  {
   "cell_type": "code",
   "execution_count": 16,
   "metadata": {},
   "outputs": [
    {
     "data": {
      "text/plain": [
       "32"
      ]
     },
     "execution_count": 16,
     "metadata": {},
     "output_type": "execute_result"
    }
   ],
   "source": [
    "len(tags_1000026)"
   ]
  },
  {
   "cell_type": "markdown",
   "metadata": {},
   "source": [
    "*** Answer 1: *** From 52 tags, only in 32 a person answered or asked a question. The constructed list of the corresponding tags is tags_1000026"
   ]
  },
  {
   "cell_type": "markdown",
   "metadata": {},
   "source": [
    "*** Question 2: *** Create a list of the user ids.\n"
   ]
  },
  {
   "cell_type": "code",
   "execution_count": 17,
   "metadata": {},
   "outputs": [
    {
     "data": {
      "text/plain": [
       "['1000026',\n",
       " '1000058',\n",
       " '1000093',\n",
       " '100011',\n",
       " '1000145',\n",
       " '100015',\n",
       " '100017',\n",
       " '1000207',\n",
       " '1000231',\n",
       " '1000269',\n",
       " '1000341',\n",
       " '1000447',\n",
       " '1000510',\n",
       " '1000608',\n",
       " '1000610',\n",
       " '1000734',\n",
       " '1000766',\n",
       " '1000849',\n",
       " '1000857',\n",
       " '100091']"
      ]
     },
     "execution_count": 17,
     "metadata": {},
     "output_type": "execute_result"
    }
   ],
   "source": [
    "user_ids=[]\n",
    "for id in d.keys():\n",
    "    user_ids.append(id)\n",
    "user_ids"
   ]
  },
  {
   "cell_type": "markdown",
   "metadata": {},
   "source": [
    "*** Question 3: *** Create a new dictionary with the following structure: \n",
    "{userid: {tag: x}} \n",
    "#where x is the sum of the points earned on answers and questions with the tag ('answer_points' + 'questions_score') \n",
    "Write out the dictionary that you created to another json file."
   ]
  },
  {
   "cell_type": "code",
   "execution_count": 18,
   "metadata": {},
   "outputs": [],
   "source": [
    "# Here is the code for the required dict in question 3. \n",
    "my_dict={}\n",
    "dict_inner={}\n",
    "\n",
    "for ids in d.keys():\n",
    "    for tag in d[ids]:\n",
    "        dict_inner[tag]=d[ids][tag]['answer_points']+d[ids][tag]['question_score']\n",
    "    my_dict[ids]=dict_inner\n",
    "    dict_inner={}\n",
    "        "
   ]
  },
  {
   "cell_type": "code",
   "execution_count": 19,
   "metadata": {},
   "outputs": [
    {
     "data": {
      "text/plain": [
       "{'1000026': {'python': 7,\n",
       "  'xpath': 5,\n",
       "  'solver': 0,\n",
       "  'replace': 3,\n",
       "  'dimple.js': 3,\n",
       "  'r': 4,\n",
       "  'python-3.6': 2,\n",
       "  'storyboard': 0,\n",
       "  'javascript': 3,\n",
       "  'xml': 3,\n",
       "  '.net': 0,\n",
       "  'elementtree': 1,\n",
       "  'python-3.x': 3,\n",
       "  'dataframe': 4,\n",
       "  'webmatrix-3': 0,\n",
       "  'python-2.7': 1,\n",
       "  'theano': 1,\n",
       "  'xslt-3.0': 5,\n",
       "  'nuget': 0,\n",
       "  'function': 0,\n",
       "  'keras': 1,\n",
       "  'arrays': 4,\n",
       "  'theano-cuda': 0,\n",
       "  'variables': 0,\n",
       "  'statsmodels': 1,\n",
       "  'numpy': 4,\n",
       "  'windows': 0,\n",
       "  'plyr': 1,\n",
       "  'deep-learning': 1,\n",
       "  'asp.net': 0,\n",
       "  'list': 0,\n",
       "  'position': 3,\n",
       "  'pandas': 1,\n",
       "  'c#': 0,\n",
       "  'sapply': 0,\n",
       "  'sequences': 3,\n",
       "  'xslt-2.0': 15,\n",
       "  'special-characters': 0,\n",
       "  'asp.net-mvc-3': 0,\n",
       "  'indexof': 3,\n",
       "  'xpath-2.0': 15,\n",
       "  'unicode': 0,\n",
       "  'web-config': 0,\n",
       "  'base-url': 1,\n",
       "  'saxon': 10,\n",
       "  'query-string': 0,\n",
       "  'asp.net-mvc': 0,\n",
       "  'map': 2,\n",
       "  'xslt': 6,\n",
       "  'scipy': 0,\n",
       "  'key': 2,\n",
       "  'subset': 3},\n",
       " '1000058': {'sql': 8,\n",
       "  'c#': 1,\n",
       "  'data-access-layer': 0,\n",
       "  'oracle': 0,\n",
       "  'sql-server': 6,\n",
       "  'sql-server-2008': 1,\n",
       "  'database': 0,\n",
       "  'join': 0,\n",
       "  'tsql': 6,\n",
       "  'datetime': 1,\n",
       "  'sorting': 0,\n",
       "  'vb.net': 0,\n",
       "  'sql-server-2005': 2,\n",
       "  'mysql': 1,\n",
       "  'linq': 0,\n",
       "  'reporting-services': 0,\n",
       "  'outer-join': 2,\n",
       "  'linq-to-sql': 1,\n",
       "  'entity-framework': 0,\n",
       "  'sp-executesql': 0,\n",
       "  'duplicates': 2,\n",
       "  'web-api': 1,\n",
       "  'long-integer': 0},\n",
       " '1000093': {'iphone': 8,\n",
       "  'html': 1,\n",
       "  'uinavigationcontroller': 1,\n",
       "  'tableview': 0,\n",
       "  'objective-c': 6,\n",
       "  'javascript': 0,\n",
       "  'nsstringencoding': 1,\n",
       "  'button': 0,\n",
       "  'ios': 3,\n",
       "  'html-parsing': 1,\n",
       "  'uitableview': 0,\n",
       "  'xcode': 0,\n",
       "  'xpath': 2,\n",
       "  'cocoa-touch': 4,\n",
       "  'nsmutablearray': 0,\n",
       "  'nsarray': 0},\n",
       " '100011': {'jquery': 12,\n",
       "  'google-maps': 18,\n",
       "  'internationalization': 3,\n",
       "  'integer': 1,\n",
       "  'onclick': 12,\n",
       "  'embedded-resource': 18,\n",
       "  'filter': 0,\n",
       "  'floating-point': 1,\n",
       "  'google-app-engine': 12,\n",
       "  'django': 1,\n",
       "  'frameworks': 2,\n",
       "  'variables': 0,\n",
       "  'python': 3,\n",
       "  'django-templates': 1,\n",
       "  'textinput': 0,\n",
       "  'field': 0,\n",
       "  'mysql': 35,\n",
       "  'iframe': 18,\n",
       "  'input': 0,\n",
       "  'apache': 1,\n",
       "  'string': 30,\n",
       "  'if-statement': 0,\n",
       "  'order': 5,\n",
       "  'url-rewriting': 1,\n",
       "  'php': 2,\n",
       "  'key': 0,\n",
       "  'sql-order-by': 5,\n",
       "  '.htaccess': 1,\n",
       "  'database': 7,\n",
       "  'duplicates': 7,\n",
       "  'limit': 5,\n",
       "  'google-maps-markers': 18,\n",
       "  'javascript': 14,\n",
       "  'regex': 0,\n",
       "  'unique': 0,\n",
       "  'arrays': 0,\n",
       "  'sitemap': 0,\n",
       "  'sql': 29,\n",
       "  'cells': 0,\n",
       "  'string-length': 0,\n",
       "  'large-data-volumes': 0,\n",
       "  'date': 3,\n",
       "  'performance': 1,\n",
       "  'html-table': 0},\n",
       " '1000145': {'java': 62,\n",
       "  'windows': 2,\n",
       "  'date': 1,\n",
       "  'encode': 1,\n",
       "  'file': 31,\n",
       "  'jcomponent': 3,\n",
       "  'embedded-resource': 1,\n",
       "  'decode': 1,\n",
       "  'url': 31,\n",
       "  'order': 2,\n",
       "  'strpos': 1,\n",
       "  'audio-recording': 1,\n",
       "  'uri': 31,\n",
       "  'ajax': 2,\n",
       "  'each': 1,\n",
       "  'audio': 1,\n",
       "  'php': 27,\n",
       "  'arrays': 2,\n",
       "  'scheduling': 1,\n",
       "  'user-interface': 1,\n",
       "  'c++': 8,\n",
       "  'suppress': 2,\n",
       "  'cron': 1,\n",
       "  'look-and-feel': 1,\n",
       "  'system-calls': 4,\n",
       "  'ping': 2,\n",
       "  'c': 1,\n",
       "  'appdata': 2,\n",
       "  'system': 4,\n",
       "  'if-statement': 2,\n",
       "  'struct': 1,\n",
       "  'xml-parsing': 1,\n",
       "  'console': 4,\n",
       "  'mysql': 1,\n",
       "  'html': 0,\n",
       "  'libxml2': 1,\n",
       "  'random': 4,\n",
       "  'string': 1,\n",
       "  'css': 0,\n",
       "  'xml': 1,\n",
       "  'javascript': 6,\n",
       "  'image': 1,\n",
       "  'namespaces': 0,\n",
       "  'simplexml': 1,\n",
       "  'jquery': 3,\n",
       "  'scheduled-tasks': 4,\n",
       "  'constructor': 0,\n",
       "  'jscrollbar': 3,\n",
       "  'swing': 19,\n",
       "  'unix': 1,\n",
       "  'oop': 2,\n",
       "  'increment': 3},\n",
       " '100015': {'lua': 4,\n",
       "  'sql': 3,\n",
       "  'node.js': 2,\n",
       "  'firebase': 3,\n",
       "  'corona': 4,\n",
       "  'python': 9,\n",
       "  'ajax': 0,\n",
       "  'cordova': 1,\n",
       "  'animation': 3,\n",
       "  'unix': 0,\n",
       "  'programming-languages': 2,\n",
       "  'migration': 1,\n",
       "  'jquery': 53,\n",
       "  'dom': 5,\n",
       "  'windows': 5,\n",
       "  'ios': 1,\n",
       "  'php': 29,\n",
       "  'realm': 1,\n",
       "  'html': 0,\n",
       "  'left-join': 1,\n",
       "  'mysql': 7,\n",
       "  'webmin': 1,\n",
       "  'innerhtml': 0,\n",
       "  'json': 1,\n",
       "  'c': 17,\n",
       "  'phpmyadmin': 1,\n",
       "  'iphone': 1,\n",
       "  'feedburner': 0,\n",
       "  'linux': 16,\n",
       "  'google-maps': 0,\n",
       "  'android': 2,\n",
       "  'wordpress': 0,\n",
       "  'flash': 4,\n",
       "  'google-maps-api-3': 0,\n",
       "  'sencha-touch-2': 2,\n",
       "  'wordpress-plugin': 0,\n",
       "  'jquery-ui': 22,\n",
       "  'groupwise-maximum': 1,\n",
       "  'redis': 1,\n",
       "  'css': 2,\n",
       "  'javascript': 2,\n",
       "  'actionscript': 0,\n",
       "  'mongodb': 1,\n",
       "  'frameworks': 0,\n",
       "  'xmpp': 65,\n",
       "  'google-app-engine': 4,\n",
       "  'angularjs': 1,\n",
       "  'rabbitmq': 6,\n",
       "  'couchdb': 4,\n",
       "  'regex': 0,\n",
       "  'angularjs-service': 1,\n",
       "  'amqp': 6},\n",
       " '100017': {'iphone': 170,\n",
       "  'uisplitviewcontroller': 9,\n",
       "  'pngcrush': 0,\n",
       "  'subtitle': 25,\n",
       "  'ios': 77,\n",
       "  'regex': 3,\n",
       "  'provisioning-profile': 0,\n",
       "  'jailbreak': 1,\n",
       "  'ipad': 56,\n",
       "  'javascript': 3,\n",
       "  'ios-provisioning': 0,\n",
       "  'magnetometer': 1,\n",
       "  'objective-c': 43,\n",
       "  'xcode': 0,\n",
       "  'scroll': 0,\n",
       "  'xml': 0,\n",
       "  'uidatepicker': 34,\n",
       "  'settings': 1,\n",
       "  'title': 25,\n",
       "  'cocoa-touch': 0,\n",
       "  'animation': 34,\n",
       "  'avaudioplayer': 2,\n",
       "  'uipopovercontroller': 5,\n",
       "  'uipagecontrol': 0,\n",
       "  'keyboard': 33,\n",
       "  'ios-simulator': 1,\n",
       "  'uinavigationitem': 25,\n",
       "  'iphone-sdk-3.0': 0,\n",
       "  'uialertview': 22,\n",
       "  'xcode-storyboard': 14,\n",
       "  'image': 1,\n",
       "  'three20': 2,\n",
       "  'uiactionsheet': 22,\n",
       "  'avfoundation': 2,\n",
       "  'uinavigationcontroller': 25,\n",
       "  'uitableview': 23,\n",
       "  'audio': 0,\n",
       "  'uiimagepickercontroller': 5,\n",
       "  'refresh': 9,\n",
       "  'uitextfield': 0,\n",
       "  'memory-management': 2},\n",
       " '1000207': {'php': 32,\n",
       "  'subscript': 0,\n",
       "  'alignment': 1,\n",
       "  'dns': 0,\n",
       "  'javascript': 2,\n",
       "  'row': 1,\n",
       "  'foreach': 1,\n",
       "  'redirect': 0,\n",
       "  'html': 33,\n",
       "  'currency': 2,\n",
       "  'jpeg': 0,\n",
       "  'image': 0,\n",
       "  'excel': 0,\n",
       "  'charactercount': 0,\n",
       "  'http-status-code-404': 1,\n",
       "  'key': 0,\n",
       "  'decimal': 3,\n",
       "  'explode': 1,\n",
       "  'autofill': 0,\n",
       "  'remap': 0,\n",
       "  'preg-replace': 3,\n",
       "  'jquery': 0,\n",
       "  'order': 0,\n",
       "  'keyboard': 0,\n",
       "  'tabs': 2,\n",
       "  'refresh': 2,\n",
       "  'mysql': 0,\n",
       "  'arrays': 0,\n",
       "  'png': 1,\n",
       "  'css': 1,\n",
       "  '.htaccess': 0,\n",
       "  'echo': 29,\n",
       "  'text': 0,\n",
       "  'subdomain': 0,\n",
       "  'superscript': 1,\n",
       "  'import': 0,\n",
       "  'apache': 0},\n",
       " '1000231': {'css': 2,\n",
       "  'iphone': 10,\n",
       "  'uitableview': 4,\n",
       "  'checkbox': 0,\n",
       "  'visual-studio-2010': 2,\n",
       "  'html': 0,\n",
       "  'alignment': 0,\n",
       "  'nested': 0,\n",
       "  'menu': 1,\n",
       "  'label': 3,\n",
       "  'radiobuttonlist': 0,\n",
       "  'indentation': 5,\n",
       "  'relative': 1,\n",
       "  'sql': 24,\n",
       "  'sql-server-2008': 1,\n",
       "  'wcf': 4,\n",
       "  'sprite': 1,\n",
       "  'stored-procedures': 13,\n",
       "  'nsxmlparser': 1,\n",
       "  'document': 4,\n",
       "  'asp.net': 40,\n",
       "  'session': 1,\n",
       "  'get': 1,\n",
       "  'list': 3,\n",
       "  'c#': 40,\n",
       "  'return': 1,\n",
       "  'nsstring': 1,\n",
       "  'textbox': 4,\n",
       "  'sql-server': 26,\n",
       "  'javascript': 2,\n",
       "  'uiscrollview': 5,\n",
       "  'exception': 7,\n",
       "  'gridview': 18,\n",
       "  'xml': 5,\n",
       "  'direction': 5,\n",
       "  'forms-authentication': 0,\n",
       "  'xcode': 16,\n",
       "  'ios': 6,\n",
       "  'datatable': 2,\n",
       "  'web-config': 0,\n",
       "  'datalist': 8,\n",
       "  'count': 16,\n",
       "  'range': 2,\n",
       "  'confirm': 3,\n",
       "  'jquery': 5,\n",
       "  'ios5': 4,\n",
       "  'button': 2,\n",
       "  'lines': 5,\n",
       "  'objective-c': 6,\n",
       "  'drop-down-menu': 0,\n",
       "  'toggle': 2,\n",
       "  'executereader': 1},\n",
       " '1000269': {'dialog': 15,\n",
       "  '.net': 4,\n",
       "  'asp.net-mvc': 4,\n",
       "  'wpf': 15,\n",
       "  'c#-4.0': 4,\n",
       "  'wcf': 4},\n",
       " '1000341': {'java': 14,\n",
       "  'smtp': 1,\n",
       "  'javascript': 0,\n",
       "  'np': 1,\n",
       "  'matlab': 13,\n",
       "  'wget': 1,\n",
       "  'radio-button': 9,\n",
       "  'multithreading': 0,\n",
       "  'bash': 4,\n",
       "  'label': 2,\n",
       "  'events': 15,\n",
       "  'object': 0,\n",
       "  'string': 5,\n",
       "  'angularjs': 40,\n",
       "  'sed': 4,\n",
       "  'task': 2,\n",
       "  'shell': 1,\n",
       "  'linux': 7,\n",
       "  'c++': 10,\n",
       "  'mapreduce': 1,\n",
       "  'plot': 3,\n",
       "  'html': 8,\n",
       "  'cplex': 3,\n",
       "  'sockets': 1,\n",
       "  'docker': 2,\n",
       "  'hadoop': 1,\n",
       "  'multidimensional-array': 7,\n",
       "  'virtual-machine': 1,\n",
       "  'amazon-ec2': 1,\n",
       "  'cpu': 13,\n",
       "  'pthreads': 1,\n",
       "  'loops': 3,\n",
       "  'contains': 4,\n",
       "  'file': 2,\n",
       "  'proc': 0,\n",
       "  'arguments': 0,\n",
       "  'substring': 4,\n",
       "  'android': 2,\n",
       "  'linux-kernel': 3,\n",
       "  'unix': 3,\n",
       "  'https': 1,\n",
       "  'html-table': 7,\n",
       "  'linked-list': 0,\n",
       "  'crontab': 3,\n",
       "  'code-review': 1,\n",
       "  'http': 1,\n",
       "  'np-hard': 1,\n",
       "  'kernel': 0,\n",
       "  'gerrit': 1,\n",
       "  'email': 4,\n",
       "  'np-complete': 1,\n",
       "  'serialization': 0},\n",
       " '1000447': {'android': 8,\n",
       "  'database': 2,\n",
       "  'xml-rpc': 1,\n",
       "  'google-maps-api-3': 0,\n",
       "  'google-play': 2,\n",
       "  'arrays': 2,\n",
       "  'wordpress': 1,\n",
       "  'google-fusion-tables': 1,\n",
       "  'android-layout': 2,\n",
       "  'web-scraping': 2,\n",
       "  'zend-framework': 0,\n",
       "  'android-image': 1,\n",
       "  'java': 2,\n",
       "  'php': 1,\n",
       "  'button': 1,\n",
       "  'sql': 2,\n",
       "  'sqlite': 1,\n",
       "  'android-tablelayout': 1},\n",
       " '1000510': {'eclipse': 45,\n",
       "  'java-8': 14,\n",
       "  'javascript': 14,\n",
       "  'gradle': 2,\n",
       "  'maven': 39,\n",
       "  'spring-mvc': 15,\n",
       "  'hibernate': 5,\n",
       "  'gradle-eclipse': 1,\n",
       "  'm2e': 39,\n",
       "  'spring-4': 8,\n",
       "  'android': 7,\n",
       "  'xml': 0,\n",
       "  'dwm': 39,\n",
       "  'jquery': 76,\n",
       "  'css': 10,\n",
       "  'sql-server-2012': 2,\n",
       "  'glassfish-3': 32,\n",
       "  'spring-data-jpa': 29,\n",
       "  'jpa-2.0': 13,\n",
       "  'hibernate-5.x': 4,\n",
       "  'jsf-2': 169,\n",
       "  'jquery-selectors': 4,\n",
       "  'jpa-2.1': 16,\n",
       "  'hibernate-entitymanager': 8,\n",
       "  'spring-boot': 8,\n",
       "  'web-services': 1,\n",
       "  'maven-3': 8,\n",
       "  'regex': 1,\n",
       "  'primefaces': 23,\n",
       "  'axis2': 1,\n",
       "  'jquery-plugins': 30,\n",
       "  'jsf-1.2': 1,\n",
       "  'java': 64,\n",
       "  '.class-file': 2,\n",
       "  'java-stream': 2,\n",
       "  'jsp': 1,\n",
       "  'spring': 33,\n",
       "  'hashmap': 1,\n",
       "  'collections': 1,\n",
       "  'jsf': 5,\n",
       "  'java-ee': 9,\n",
       "  'collectors': 1,\n",
       "  'jdbc': 4,\n",
       "  'jaxb': 3,\n",
       "  'dependency-injection': 4,\n",
       "  'sql': 15,\n",
       "  'xsd': 7,\n",
       "  'html': 1,\n",
       "  'jdbctemplate': 4,\n",
       "  'oracle11g': 15,\n",
       "  'jquery-ui': 5,\n",
       "  'spring-ws': 4},\n",
       " '1000608': {'html': 31,\n",
       "  'progressive-enhancement': 4,\n",
       "  'composer-php': 2,\n",
       "  'string': 1,\n",
       "  'php': 30,\n",
       "  'graceful-degradation': 4,\n",
       "  'blade': 2,\n",
       "  'twitter-bootstrap': 1,\n",
       "  'jquery': 20,\n",
       "  'forms': 4,\n",
       "  'laravel': 2,\n",
       "  'accordion': 1,\n",
       "  'drupal-7': 16,\n",
       "  'windows': 3,\n",
       "  'goto': 2,\n",
       "  'awstats': 1,\n",
       "  'drupal-views': 16,\n",
       "  'command-line': 3,\n",
       "  'lambda': 2,\n",
       "  'phar': 1,\n",
       "  'javascript': 13,\n",
       "  'arrays': 3,\n",
       "  'performance': 2,\n",
       "  'phpunit': 1,\n",
       "  'css': 11,\n",
       "  'associative-array': 3,\n",
       "  'yslow': 2,\n",
       "  'phpstorm': 1,\n",
       "  'gzip': 5,\n",
       "  'heredoc': 3,\n",
       "  'styles': 2,\n",
       "  'converter': 1,\n",
       "  'archive': 5,\n",
       "  'shorthand-if': 3,\n",
       "  'github': 2,\n",
       "  'entity': 1,\n",
       "  'gz': 5,\n",
       "  'multiline': 3,\n",
       "  'netbeans': 2,\n",
       "  'xml': 1,\n",
       "  'tar': 5,\n",
       "  'coding-style': 3,\n",
       "  'time': 2,\n",
       "  'ckeditor': 1,\n",
       "  'barcode-scanner': 5,\n",
       "  'mysql': 2,\n",
       "  'date': 2,\n",
       "  'ajax': 1,\n",
       "  'input': 5,\n",
       "  'indentation': 2,\n",
       "  'constructor': 1,\n",
       "  'json': 1},\n",
       " '1000610': {'android': 5,\n",
       "  'drag-and-drop': 3,\n",
       "  'gmgridviewcell': 2,\n",
       "  'ecmascript-6': 0,\n",
       "  'ios': 4,\n",
       "  'android-studio': 3,\n",
       "  'intellij-idea': 0,\n",
       "  'image': 0,\n",
       "  'objective-c': 4,\n",
       "  'uitableview': 2,\n",
       "  'maven-plugin': 0,\n",
       "  'scale': 0,\n",
       "  'ipad': 4,\n",
       "  'audio': 2,\n",
       "  'traceur': 0,\n",
       "  'pdf': 0,\n",
       "  'fragment': 3,\n",
       "  'gmgridview': 2,\n",
       "  'babeljs': 0,\n",
       "  'java': 0,\n",
       "  'android-layout': 3,\n",
       "  'cell': 2,\n",
       "  'maven': 0,\n",
       "  'fonts': 0},\n",
       " '1000734': {'python': 11,\n",
       "  'arrays': 0,\n",
       "  'cakephp': 0,\n",
       "  'dictionary-comprehension': 5,\n",
       "  'prime-factoring': 1,\n",
       "  'lambda': 0,\n",
       "  'model': 0,\n",
       "  'prefixes': 0,\n",
       "  'css': 1,\n",
       "  'rgb': 0,\n",
       "  'relationship': 0,\n",
       "  'html': 1,\n",
       "  'vector': 0,\n",
       "  'string-formatting': 5,\n",
       "  'image': 0,\n",
       "  'matlab': 0,\n",
       "  'syntax-error': 5},\n",
       " '1000766': {'laravel-5': 6,\n",
       "  '.net': 3,\n",
       "  'mysql': 1,\n",
       "  'curve': 1,\n",
       "  'php': 3,\n",
       "  'ceph': 0,\n",
       "  'awk': 2,\n",
       "  'hbase': 6,\n",
       "  'python': 7,\n",
       "  'ubuntu-14.04': 0,\n",
       "  'openshift': 0,\n",
       "  'eclipse': 0,\n",
       "  'maatwebsite-excel': 5,\n",
       "  'c++': 0,\n",
       "  'git': 0,\n",
       "  'maven': 0,\n",
       "  'laravel': 5,\n",
       "  'ubuntu': 0,\n",
       "  'riak': 0,\n",
       "  'hadoop': 0,\n",
       "  'multidimensional-array': 2,\n",
       "  'extjs': 2,\n",
       "  'rebar': 0,\n",
       "  'eclipse-plugin': 0,\n",
       "  'gnuplot': 32,\n",
       "  'javascript': 2,\n",
       "  'laravel-5.2': 2,\n",
       "  'database': 0,\n",
       "  'graph': 9,\n",
       "  'asp-classic': 2,\n",
       "  'php-7': 2,\n",
       "  'matrix': 1,\n",
       "  'c#': 4,\n",
       "  'printf': 4,\n",
       "  'migration': 0,\n",
       "  'sql-server': 1,\n",
       "  'heatmap': 10,\n",
       "  'erlang': 0,\n",
       "  'database-migration': 0,\n",
       "  'collections': 1,\n",
       "  'bar-chart': 6,\n",
       "  'histogram': 3,\n",
       "  'legend': 3,\n",
       "  '.net-2.0': 1,\n",
       "  'dictionary': 4,\n",
       "  'stacked': 3,\n",
       "  'latex': 0,\n",
       "  'date': 1,\n",
       "  'stacked-chart': 2,\n",
       "  'sql-server-ce': 1,\n",
       "  'stacked-area-chart': 1,\n",
       "  'list': 3},\n",
       " '1000849': {'http': 115,\n",
       "  'image': 6,\n",
       "  'dom': 1,\n",
       "  'xampp': 0,\n",
       "  'definition': 115,\n",
       "  'jquery': 6,\n",
       "  'notifications': 1,\n",
       "  'localhost': 0,\n",
       "  'rest': 115,\n",
       "  'jsf': 3,\n",
       "  'richfaces': 1,\n",
       "  'iphone': 1,\n",
       "  'javascript': 59,\n",
       "  'forms': 2,\n",
       "  'twitter-bootstrap': 1,\n",
       "  'ipad': 1,\n",
       "  'css': 14,\n",
       "  'python': 2,\n",
       "  'date-format': 1,\n",
       "  'include': 0,\n",
       "  'html': 16,\n",
       "  'media-queries': 2,\n",
       "  'html-email': 1,\n",
       "  'width': 0,\n",
       "  'internet-explorer': 13,\n",
       "  'table': 2,\n",
       "  'navbar': 1,\n",
       "  'dreamweaver': 0,\n",
       "  'css3': 12,\n",
       "  'jquery-ui': 1,\n",
       "  'vagrant': 1,\n",
       "  'photoshop': 0,\n",
       "  'internet-explorer-8': 12,\n",
       "  'css-transitions': 2,\n",
       "  'installation': 1,\n",
       "  'datatable': 0,\n",
       "  'html5': 7,\n",
       "  'firebug': 15,\n",
       "  'google-visualization': 0,\n",
       "  'placeholder': 0,\n",
       "  'flash': 7,\n",
       "  'google-chrome-devtools': 1,\n",
       "  'document-root': 0,\n",
       "  'uiwebview': 0,\n",
       "  'fusioncharts': 7,\n",
       "  'java': 1,\n",
       "  'apache2': 0,\n",
       "  'safari': 0,\n",
       "  'highcharts': 7,\n",
       "  'tags': 1,\n",
       "  'apache': 0,\n",
       "  'margin': 0},\n",
       " '1000857': {'java': 15,\n",
       "  'grayscale': 4,\n",
       "  'io': 1,\n",
       "  'selenium': 1,\n",
       "  'image-processing': 10,\n",
       "  'groovy': 3,\n",
       "  'websphere-liberty': 1,\n",
       "  'hue': 0,\n",
       "  'if-statement': 7,\n",
       "  'freeswitch': 2,\n",
       "  'linux': 1,\n",
       "  'database': 0,\n",
       "  'hsv': 5,\n",
       "  'voip': 2,\n",
       "  'php': 1,\n",
       "  'javascript': 0,\n",
       "  'opencv': 5,\n",
       "  'playframework': 2,\n",
       "  'matlab': 0,\n",
       "  'pdf': 0,\n",
       "  'computer-vision': 5,\n",
       "  'playframework-1.x': 2,\n",
       "  'fusion': 0,\n",
       "  'typesafe-activator': 0,\n",
       "  'skin': 5,\n",
       "  'cloudant': 3,\n",
       "  'gaussian': 0,\n",
       "  'colors': 4,\n",
       "  'gson': 3,\n",
       "  'geoserver': 1,\n",
       "  'rgb': 4,\n",
       "  'couchdb': 3,\n",
       "  'glassfish': 1},\n",
       " '100091': {'php': 52,\n",
       "  'emacs': 6,\n",
       "  'character-encoding': 2,\n",
       "  'database': 1,\n",
       "  'bittorrent': 23,\n",
       "  'dreamweaver': 6,\n",
       "  '.htaccess': 2,\n",
       "  'security': 1,\n",
       "  'magnet-uri': 23,\n",
       "  'search': 6,\n",
       "  'encoding': 2,\n",
       "  'arrays': 1,\n",
       "  'fastcgi': 23,\n",
       "  'ide': 6,\n",
       "  'mod-rewrite': 2,\n",
       "  'ruby-on-rails': 1,\n",
       "  'apache': 19,\n",
       "  'gdb': 5,\n",
       "  'release-management': 1,\n",
       "  'effects': 1,\n",
       "  'wordpress': 19,\n",
       "  'linux': 5,\n",
       "  'vector': 1,\n",
       "  'memcached': 1,\n",
       "  'mod-php': 19,\n",
       "  'output-buffering': 5,\n",
       "  'merge-conflict-resolution': 1,\n",
       "  'python': 1,\n",
       "  'c++': 23,\n",
       "  'mysql': 3,\n",
       "  'git': 1,\n",
       "  'boost': 7,\n",
       "  'shell': 19,\n",
       "  'string': 8,\n",
       "  'session': 1,\n",
       "  'boost-phoenix': 2,\n",
       "  'grep': 13,\n",
       "  'ms-access': 2,\n",
       "  'caching': 1,\n",
       "  'xargs': 6,\n",
       "  'sed': 13,\n",
       "  'views': 2,\n",
       "  'jquery': 1,\n",
       "  'optimization': 0,\n",
       "  'drupal': 8,\n",
       "  'panels': 2,\n",
       "  'open-source': 1,\n",
       "  'unix': 6,\n",
       "  'ruby': 6,\n",
       "  'windows': 2,\n",
       "  'release': 1,\n",
       "  'find': 6}}"
      ]
     },
     "execution_count": 19,
     "metadata": {},
     "output_type": "execute_result"
    }
   ],
   "source": [
    "my_dict"
   ]
  },
  {
   "cell_type": "code",
   "execution_count": null,
   "metadata": {},
   "outputs": [],
   "source": []
  },
  {
   "cell_type": "code",
   "execution_count": null,
   "metadata": {},
   "outputs": [],
   "source": []
  },
  {
   "cell_type": "markdown",
   "metadata": {
    "collapsed": true
   },
   "source": [
    "## Bonus homework exercise"
   ]
  },
  {
   "cell_type": "markdown",
   "metadata": {},
   "source": [
    "#### Now that you are experienced with lists, dictionaries, loops, statements, reading and writing files, you can solve this slightly more challenging exercises. Feel free to use StackOverflow!\n",
    "\n",
    "You are in a city in which the streets form a perfect grid. You know that you should reach the best hamburger place on earth but the route that one of your friends gave you is quite circumvent.\n",
    "\n",
    "Precisely, you got a document (called `map.txt`) which indicates that you should start at some coordinates (where you are right now) and face North. Then, follow the provided sequence: either turn left (L) or right (R) 90 degrees, then walk forward the given number of blocks, ending at a new intersection.\n",
    "\n",
    "There's no time to follow such ridiculous instructions on foot, though, and you are really hungry, so you take a moment and work out the destination. Given that you can only walk on the street grid of the city, how long is the shortest path to the destination?\n",
    "\n",
    "For example:\n",
    "\n",
    "Following R2, L3 leaves you 2 blocks East and 3 blocks North, or 5 blocks away.\n",
    "R2, R2, R2 leaves you 2 blocks due South of your starting position, which is 2 blocks away.\n",
    "R5, L5, R5, R3 leaves you 12 blocks away.\n",
    "\n",
    "How many blocks away is the perfect hamburger joint?"
   ]
  },
  {
   "cell_type": "markdown",
   "metadata": {},
   "source": [
    "*** Step1:*** I just read the map and split it into list of directions"
   ]
  },
  {
   "cell_type": "code",
   "execution_count": 22,
   "metadata": {},
   "outputs": [
    {
     "name": "stdout",
     "output_type": "stream",
     "text": [
      "R1, R1, R3, R1, R1, L2, R5, L2, R5, R1, R4, L2, R3, L3, R4, L5, R4, R4, R1, L5, L4, R5, R3, L1, R4, R3, L2, L1, R3, L4, R3, L2, R5, R190, R3, R5, L5, L1, R54, L3, L4, L1, R4, R1, R3, L1, L1, R2, L2, R2, R5, L3, R4, R76, L3, R4, R191, R5, R5, L5, L4, L5, L3, R1, R3, R2, L2, L2, L4, L5, L4, R5, R4, R4, R2, R3, R4, L3, L2, R5, R3, L2, L1, R2, L3, R2, L1, L1, R1, L3, R5, L5, L1, L2, R5, R3, L3, R3, R5, R2, R5, R5, L5, L5, R2, L3, L5, L2, L1, R2, R2, L2, R2, L3, L2, R3, L5, R4, L4, L5, R3, L4, R1, R3, R2, R4, L2, L3, R2, L5, R5, R4, L2, R4, L1, L3, L1, L3, R1, R2, R1, L5, R5, R3, L3, L3, L2, R4, R2, L5, L1, L1, L5, L4, L1, L1, R1\n",
      "\n"
     ]
    }
   ],
   "source": [
    "with open('map.txt','r') as f: \n",
    "     all_content =f.read()         \n",
    "print( all_content )"
   ]
  },
  {
   "cell_type": "code",
   "execution_count": 23,
   "metadata": {},
   "outputs": [
    {
     "name": "stdout",
     "output_type": "stream",
     "text": [
      "['R1', ' R1', ' R3', ' R1', ' R1', ' L2', ' R5', ' L2', ' R5', ' R1', ' R4', ' L2', ' R3', ' L3', ' R4', ' L5', ' R4', ' R4', ' R1', ' L5', ' L4', ' R5', ' R3', ' L1', ' R4', ' R3', ' L2', ' L1', ' R3', ' L4', ' R3', ' L2', ' R5', ' R190', ' R3', ' R5', ' L5', ' L1', ' R54', ' L3', ' L4', ' L1', ' R4', ' R1', ' R3', ' L1', ' L1', ' R2', ' L2', ' R2', ' R5', ' L3', ' R4', ' R76', ' L3', ' R4', ' R191', ' R5', ' R5', ' L5', ' L4', ' L5', ' L3', ' R1', ' R3', ' R2', ' L2', ' L2', ' L4', ' L5', ' L4', ' R5', ' R4', ' R4', ' R2', ' R3', ' R4', ' L3', ' L2', ' R5', ' R3', ' L2', ' L1', ' R2', ' L3', ' R2', ' L1', ' L1', ' R1', ' L3', ' R5', ' L5', ' L1', ' L2', ' R5', ' R3', ' L3', ' R3', ' R5', ' R2', ' R5', ' R5', ' L5', ' L5', ' R2', ' L3', ' L5', ' L2', ' L1', ' R2', ' R2', ' L2', ' R2', ' L3', ' L2', ' R3', ' L5', ' R4', ' L4', ' L5', ' R3', ' L4', ' R1', ' R3', ' R2', ' R4', ' L2', ' L3', ' R2', ' L5', ' R5', ' R4', ' L2', ' R4', ' L1', ' L3', ' L1', ' L3', ' R1', ' R2', ' R1', ' L5', ' R5', ' R3', ' L3', ' L3', ' L2', ' R4', ' R2', ' L5', ' L1', ' L1', ' L5', ' L4', ' L1', ' L1', ' R1\\n']\n"
     ]
    }
   ],
   "source": [
    "list_ways=all_content.split(',')\n",
    "print(list_ways)"
   ]
  },
  {
   "cell_type": "code",
   "execution_count": 24,
   "metadata": {},
   "outputs": [],
   "source": [
    "list_ways[0]=' R1'"
   ]
  },
  {
   "cell_type": "markdown",
   "metadata": {},
   "source": [
    "*** Step 2: *** I try to define some useful funstions:"
   ]
  },
  {
   "cell_type": "code",
   "execution_count": null,
   "metadata": {},
   "outputs": [],
   "source": []
  },
  {
   "cell_type": "code",
   "execution_count": 25,
   "metadata": {},
   "outputs": [],
   "source": [
    "def next_coord(where_you_face, direct):\n",
    "    '''This function takes where you currently face(East, west, south or north), \n",
    "    and taking the next direction (Left or right), will return where you will face after going that directions\n",
    "    (will move further to East, west, south or north) and by how many steps'''\n",
    "    if where_you_face==\"North\":\n",
    "        if direct[1]==\"L\":\n",
    "            move_number=int(direct[2])\n",
    "            I_face=\"West\"\n",
    "        else:\n",
    "            move_number=int(direct[2])\n",
    "            I_face=\"East\"\n",
    "            \n",
    "            \n",
    "    if where_you_face==\"East\":\n",
    "        if direct[1]==\"L\":\n",
    "            move_number=int(direct[2])\n",
    "            I_face=\"North\"\n",
    "        else:\n",
    "            move_number=int(direct[2])   \n",
    "            I_face=\"South\"\n",
    "\n",
    "            \n",
    "    if where_you_face==\"West\":\n",
    "        if direct[1]==\"R\":\n",
    "            move_number=int(direct[2])\n",
    "            I_face=\"North\"\n",
    "        else:\n",
    "            move_number=int(direct[2])    \n",
    "            I_face=\"South\"\n",
    "            \n",
    "            \n",
    "    if where_you_face==\"South\":\n",
    "        if direct[1]==\"R\":\n",
    "            move_number=int(direct[2])\n",
    "            I_face=\"West\"\n",
    "        else:\n",
    "            move_number=int(direct[2])    \n",
    "            I_face=\"East\"\n",
    "\n",
    "    return [I_face, move_number]\n",
    "                "
   ]
  },
  {
   "cell_type": "code",
   "execution_count": 26,
   "metadata": {},
   "outputs": [],
   "source": [
    "def final_coord(list_example):\n",
    "    ''' This function will return you the extended coordinates where the burger is located, \n",
    "    taking into account that you currently face to North'''\n",
    "    where_you_face=\"North\"\n",
    "    # my initial coordinates\n",
    "    my_dict={}\n",
    "    my_dict['West']=0\n",
    "    my_dict[\"North\"]=0\n",
    "    my_dict['East']=0\n",
    "    my_dict['South']=0\n",
    "    example=list_example\n",
    "    for direct in example:\n",
    "        value=next_coord(where_you_face, direct)\n",
    "        where_you_face=value[0]\n",
    "        direct=value[1]\n",
    "        for item in my_dict.keys():\n",
    "            if item==where_you_face:\n",
    "                my_dict[item]=my_dict[item]+direct\n",
    "                \n",
    "    return my_dict"
   ]
  },
  {
   "cell_type": "code",
   "execution_count": 27,
   "metadata": {},
   "outputs": [
    {
     "ename": "TypeError",
     "evalue": "unhashable type: 'dict'",
     "output_type": "error",
     "traceback": [
      "\u001b[0;31m---------------------------------------------------------------------------\u001b[0m",
      "\u001b[0;31mTypeError\u001b[0m                                 Traceback (most recent call last)",
      "\u001b[0;32m<ipython-input-27-fc692b946f51>\u001b[0m in \u001b[0;36m<module>\u001b[0;34m\u001b[0m\n\u001b[1;32m      2\u001b[0m \u001b[0;32massert\u001b[0m \u001b[0mfinal_coord\u001b[0m\u001b[0;34m(\u001b[0m\u001b[0mexample\u001b[0m\u001b[0;34m)\u001b[0m\u001b[0;34m==\u001b[0m\u001b[0;34m{\u001b[0m\u001b[0;34m'East'\u001b[0m\u001b[0;34m:\u001b[0m \u001b[0;36m10\u001b[0m\u001b[0;34m,\u001b[0m \u001b[0;34m'North'\u001b[0m\u001b[0;34m:\u001b[0m \u001b[0;36m5\u001b[0m\u001b[0;34m,\u001b[0m \u001b[0;34m'South'\u001b[0m\u001b[0;34m:\u001b[0m \u001b[0;36m3\u001b[0m\u001b[0;34m,\u001b[0m \u001b[0;34m'West'\u001b[0m\u001b[0;34m:\u001b[0m \u001b[0;36m0\u001b[0m\u001b[0;34m}\u001b[0m\u001b[0;34m\u001b[0m\u001b[0;34m\u001b[0m\u001b[0m\n\u001b[1;32m      3\u001b[0m \u001b[0mexample\u001b[0m\u001b[0;34m=\u001b[0m\u001b[0;34m[\u001b[0m\u001b[0;34m' R2'\u001b[0m\u001b[0;34m,\u001b[0m \u001b[0;34m' L3'\u001b[0m\u001b[0;34m]\u001b[0m\u001b[0;34m\u001b[0m\u001b[0;34m\u001b[0m\u001b[0m\n\u001b[0;32m----> 4\u001b[0;31m \u001b[0;32massert\u001b[0m \u001b[0mfinal_coord\u001b[0m\u001b[0;34m(\u001b[0m\u001b[0mexample\u001b[0m\u001b[0;34m)\u001b[0m\u001b[0;34m==\u001b[0m\u001b[0;34m{\u001b[0m\u001b[0;34m{\u001b[0m\u001b[0;34m'East'\u001b[0m\u001b[0;34m:\u001b[0m \u001b[0;36m2\u001b[0m\u001b[0;34m,\u001b[0m \u001b[0;34m'North'\u001b[0m\u001b[0;34m:\u001b[0m \u001b[0;36m3\u001b[0m\u001b[0;34m,\u001b[0m \u001b[0;34m'South'\u001b[0m\u001b[0;34m:\u001b[0m \u001b[0;36m0\u001b[0m\u001b[0;34m,\u001b[0m \u001b[0;34m'West'\u001b[0m\u001b[0;34m:\u001b[0m \u001b[0;36m0\u001b[0m\u001b[0;34m}\u001b[0m\u001b[0;34m}\u001b[0m\u001b[0;34m\u001b[0m\u001b[0;34m\u001b[0m\u001b[0m\n\u001b[0m\u001b[1;32m      5\u001b[0m \u001b[0mexample\u001b[0m\u001b[0;34m=\u001b[0m\u001b[0;34m[\u001b[0m\u001b[0;34m' R2'\u001b[0m\u001b[0;34m,\u001b[0m \u001b[0;34m' R2'\u001b[0m\u001b[0;34m,\u001b[0m \u001b[0;34m' R2'\u001b[0m \u001b[0;34m]\u001b[0m\u001b[0;34m\u001b[0m\u001b[0;34m\u001b[0m\u001b[0m\n\u001b[1;32m      6\u001b[0m \u001b[0;32massert\u001b[0m \u001b[0mfinal_coord\u001b[0m\u001b[0;34m(\u001b[0m\u001b[0mexample\u001b[0m\u001b[0;34m)\u001b[0m\u001b[0;34m==\u001b[0m\u001b[0;34m{\u001b[0m\u001b[0;34m'East'\u001b[0m\u001b[0;34m:\u001b[0m \u001b[0;36m2\u001b[0m\u001b[0;34m,\u001b[0m \u001b[0;34m'North'\u001b[0m\u001b[0;34m:\u001b[0m \u001b[0;36m0\u001b[0m\u001b[0;34m,\u001b[0m \u001b[0;34m'South'\u001b[0m\u001b[0;34m:\u001b[0m \u001b[0;36m2\u001b[0m\u001b[0;34m,\u001b[0m \u001b[0;34m'West'\u001b[0m\u001b[0;34m:\u001b[0m \u001b[0;36m2\u001b[0m\u001b[0;34m}\u001b[0m\u001b[0;34m\u001b[0m\u001b[0;34m\u001b[0m\u001b[0m\n",
      "\u001b[0;31mTypeError\u001b[0m: unhashable type: 'dict'"
     ]
    }
   ],
   "source": [
    "example=[\" R5\", \" L5\", \" R5\", \" R3\"]\n",
    "assert final_coord(example)=={'East': 10, 'North': 5, 'South': 3, 'West': 0}\n",
    "example=[' R2', ' L3']\n",
    "assert final_coord(example)=={{'East': 2, 'North': 3, 'South': 0, 'West': 0}}\n",
    "example=[' R2', ' R2', ' R2' ]\n",
    "assert final_coord(example)=={'East': 2, 'North': 0, 'South': 2, 'West': 2}\n"
   ]
  },
  {
   "cell_type": "markdown",
   "metadata": {},
   "source": [
    "The assertion examples show that the function works well, but it gives the extended coordinates, like in the third example it seems like you have to go east 2 unit, then back to west again 2 unit which will bring you to the initial step. I wrote the main body to eliminate those back and forth movements and give the short way to go."
   ]
  },
  {
   "cell_type": "markdown",
   "metadata": {},
   "source": [
    "*** Step 4: *** Reduce the 'extended' coordinates into 'short' ones."
   ]
  },
  {
   "cell_type": "code",
   "execution_count": 28,
   "metadata": {},
   "outputs": [],
   "source": [
    "def short_way(list_ways):\n",
    "    short_way=['','']\n",
    "    burg_place=final_coord(list_ways)\n",
    "    # print(burg_place)\n",
    "    if (burg_place['East']>=burg_place['West']):\n",
    "        short_way[0]=\"East\"+str(abs(burg_place['East']-burg_place['West']))\n",
    "    else: \n",
    "        short_way[0]=\"West\"+str(abs(burg_place['East']-burg_place['West']))  \n",
    "    \n",
    "    if (burg_place['North']>=burg_place['South']):\n",
    "        short_way[1]=\"North\"+str(abs(burg_place['North']-burg_place['South']))\n",
    "    else:\n",
    "        short_way[1]=\"South\"+str(abs(burg_place['North']-burg_place['South']))\n",
    "    return short_way"
   ]
  },
  {
   "cell_type": "code",
   "execution_count": 29,
   "metadata": {},
   "outputs": [],
   "source": [
    "def short_way(list_ways):\n",
    "    short_way={}\n",
    "    burg_place=final_coord(list_ways)\n",
    "    # print(burg_place)\n",
    "    if (burg_place['East']>=burg_place['West']):\n",
    "        short_way[\"East\"]=abs(burg_place['East']-burg_place['West'])\n",
    "        short_way[\"West\"]=0\n",
    "    else: \n",
    "        short_way[\"West\"]=abs(burg_place['East']-burg_place['West'])\n",
    "        short_way[\"East\"]=0\n",
    "        \n",
    "    \n",
    "    if (burg_place['North']>=burg_place['South']):\n",
    "        short_way[\"North\"]=abs(burg_place['North']-burg_place['South'])\n",
    "        short_way[\"South\"]=0\n",
    "    else:\n",
    "        short_way[\"South\"]=abs(burg_place['North']-burg_place['South'])\n",
    "        short_way[\"North\"]=0\n",
    "    return short_way"
   ]
  },
  {
   "cell_type": "code",
   "execution_count": 30,
   "metadata": {},
   "outputs": [
    {
     "data": {
      "text/plain": [
       "{'East': 0, 'West': 0, 'North': 20, 'South': 0}"
      ]
     },
     "execution_count": 30,
     "metadata": {},
     "output_type": "execute_result"
    }
   ],
   "source": [
    "short_way(list_ways)"
   ]
  },
  {
   "cell_type": "markdown",
   "metadata": {},
   "source": [
    "Again, let's try assertion, to see how it works with examples provided"
   ]
  },
  {
   "cell_type": "code",
   "execution_count": 31,
   "metadata": {},
   "outputs": [],
   "source": [
    "example=[\" R5\", \" L5\", \" R5\", \" R3\"]\n",
    "assert short_way(example)=={'East': 10, 'North': 2, 'South': 0, 'West': 0}\n",
    "example=[' R2', ' L3']\n",
    "assert short_way(example)=={'East': 2, 'North': 3, 'South': 0, 'West': 0}\n",
    "example=[' R2', ' R2', ' R2' ]\n",
    "assert short_way(example)=={'East': 0, 'North': 0, 'South': 2, 'West': 0}\n"
   ]
  },
  {
   "cell_type": "markdown",
   "metadata": {},
   "source": [
    "The assertion shows that the examples work good, and in the third example you just have to go 2 units south. "
   ]
  },
  {
   "cell_type": "code",
   "execution_count": 32,
   "metadata": {},
   "outputs": [
    {
     "name": "stdout",
     "output_type": "stream",
     "text": [
      "{'East': 0, 'West': 0, 'North': 20, 'South': 0}\n",
      "The shorter way to go to the burger place is to go East 0 step, then South 0 step, then West 0 steps then North 20 steps\n"
     ]
    }
   ],
   "source": [
    "# Now let's try with our big list of directions:\n",
    "burger_place=short_way(list_ways)\n",
    "print(burger_place)\n",
    "\n",
    "# message\n",
    "print('The shorter way to go to the burger place is to go East ' +str(burger_place['East'])+' step, then South ' +str(burger_place['South'])+ ' step, then West ' +str(burger_place['West'])+' steps'+' then North ' +str(burger_place['North'])+' steps')"
   ]
  },
  {
   "cell_type": "markdown",
   "metadata": {},
   "source": [
    "Now let's try to wtire it in the language of directions:"
   ]
  },
  {
   "cell_type": "code",
   "execution_count": null,
   "metadata": {},
   "outputs": [],
   "source": []
  },
  {
   "cell_type": "code",
   "execution_count": 33,
   "metadata": {},
   "outputs": [
    {
     "name": "stdout",
     "output_type": "stream",
     "text": [
      "R0\n",
      "L20\n",
      "Turn Right and go 0 steps\n",
      "Turn Left and go 20 steps\n"
     ]
    }
   ],
   "source": [
    "burger_place=short_way(list_ways)\n",
    "if burger_place['East']>=burger_place['West']:\n",
    "    print('R'+str(burger_place['East']) )\n",
    "    a=\"Turn Right and go \"+str(burger_place['East'])+ \" steps\"\n",
    "    if burger_place['North']>=burger_place['South']:\n",
    "        print('L'+str(burger_place['North']) )\n",
    "        b=\"Turn Left and go \"+str(burger_place['North'])+ \" steps\"\n",
    "    else: \n",
    "        print('R'+str(burger_place['South']) )\n",
    "        b=\"Turn Right and go \"+str(burger_place['South'])+ \" steps\"\n",
    "else:\n",
    "    print('L'+str(burger_place['East']) )\n",
    "    a=\"Turn Left and go \"+str(burger_place['East'])+ \" steps\"\n",
    "    if burger_place['North']>=burger_place['South']:\n",
    "        print('R'+str(burger_place['North']) )\n",
    "        b=\"Turn Right and go \"+str(burger_place['North'])+ \" steps\"\n",
    "    else: \n",
    "        print('L'+str(burger_place['South']) )\n",
    "        b=\"Turn Left and go \"+str(burger_place['South'])+ \" steps\"\n",
    "print(a)\n",
    "print(b)"
   ]
  },
  {
   "cell_type": "code",
   "execution_count": null,
   "metadata": {},
   "outputs": [],
   "source": []
  },
  {
   "cell_type": "code",
   "execution_count": null,
   "metadata": {
    "collapsed": true
   },
   "outputs": [],
   "source": []
  }
 ],
 "metadata": {
  "kernelspec": {
   "display_name": "Python 3",
   "language": "python",
   "name": "python3"
  },
  "language_info": {
   "codemirror_mode": {
    "name": "ipython",
    "version": 3
   },
   "file_extension": ".py",
   "mimetype": "text/x-python",
   "name": "python",
   "nbconvert_exporter": "python",
   "pygments_lexer": "ipython3",
   "version": "3.8.5"
  }
 },
 "nbformat": 4,
 "nbformat_minor": 2
}
