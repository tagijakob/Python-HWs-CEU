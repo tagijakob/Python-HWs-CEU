{
 "cells": [
  {
   "cell_type": "markdown",
   "metadata": {},
   "source": [
    "## Implementing the MasterMind Game!"
   ]
  },
  {
   "cell_type": "markdown",
   "metadata": {},
   "source": [
    "Goal: You'll write a program that plays the MasterMind game.\n",
    "\n",
    "__A short summary of the rules__\n",
    "- _The game is played by the codemaker (in our case the algorithm) and the codebreaker (in our case the user)._\n",
    "- _The code is made up of four (possibly repeating) colors chosen from the following list: B - blue, G - green, Y - yellow, O - orange, P - purple, R - red._\n",
    "- _After the code is set, the codebreaker has a fixed number of guesses to break it._\n",
    "- _One turn consists of a guess (a possible code consisting of 4 colors) by the codebreaker and the answer of the codemaker in which he specifies two numbers: how many colors are correct but not in the right place and how many colors are correct and in the right place._\n",
    "- _The codebreaker wins if the code is guessed (before running out of the pre-fixed number of steps) or loses otherwise._\n",
    "\n",
    "The game can be played by calling the `play_the_game()` function. This main functions calls all the other functions. We have provided the names of the helper functions and docstrings about what they should do. Your task is to write the code for each and also to finish the `play_the_game()` function. \n",
    "\n",
    "After completing each function use `assert` to check if your function is doing the right thing. Think about some input cases and the output you expect for each and test if it's the same as the output of you function. Try to catch different inputs that can generate different type of errors. An example test case for `check_input()` function is provided for you. Don't use this method to test the `generate_secret()`, `graphic()` and `play_the_game()` functions."
   ]
  },
  {
   "cell_type": "code",
   "execution_count": 2,
   "metadata": {},
   "outputs": [],
   "source": [
    "import random"
   ]
  },
  {
   "cell_type": "code",
   "execution_count": 3,
   "metadata": {},
   "outputs": [],
   "source": [
    "def generate_secret():\n",
    "    \"\"\"\n",
    "    Generates a list of 4 randomly chosen colors. One color can occur any number of times.\n",
    "    \n",
    "    Input: no input needed\n",
    "    Output: a list with 4 letters representing the chosen colors. E.g. ['B','B','Y','G']\n",
    "    \"\"\" \n",
    "    my_dict={1:'B',2:'G', 3:'Y' , 4:'O', 5:'P', 6:'R'}\n",
    "     \n",
    "    return [my_dict[random.randint(1,6)],my_dict[random.randint(1,6)],my_dict[random.randint(1,6)],my_dict[random.randint(1,6)]]\n",
    "    "
   ]
  },
  {
   "cell_type": "code",
   "execution_count": 4,
   "metadata": {},
   "outputs": [],
   "source": [
    "def check_input(guess):\n",
    "    \"\"\"\n",
    "    Checks if the input given by the user is valid. A valid input is 4 available letters with no spaces in-between\n",
    "    \n",
    "    Input: a string given by the user\n",
    "    Output: a boolean value\n",
    "    \"\"\"\n",
    "    i=0\n",
    "    for k in guess:\n",
    "        if k in ['b','g','y','o','p','r']:\n",
    "            i=i+1\n",
    "    if type(guess) is str and len(guess)== 4 and i==4:\n",
    "        return True\n",
    "    else:\n",
    "        return False\n",
    "\n"
   ]
  },
  {
   "cell_type": "code",
   "execution_count": 5,
   "metadata": {},
   "outputs": [],
   "source": [
    "def get_input():\n",
    "    \"\"\" \n",
    "    Ask the user to type in 4 letters that represents her next guess without spaces between. \n",
    "    The avaliable letter are:\n",
    "    B - blue\n",
    "    G - green\n",
    "    Y - yellow\n",
    "    O - orange\n",
    "    P - purple\n",
    "    R - red\n",
    "    Use the check_input function to check if the input was valid. If not, asks for a correction\n",
    "    If the input was valid make a list of the letters in the input.\n",
    "    \n",
    "    Input: no input needed\n",
    "    Output: a list with 4 letters representing the chosen colors. E.g. ['B','B','Y','G']\n",
    "    \"\"\"\n",
    "    print(\"The guess should be 4 lowercase letter, with no space between, e.g. 'brgo'. it should contain only the following characters: 'b','g','y','o','p', and 'r'. \")\n",
    "    guess=(input(\"Please, insert your guess here:  \" ))\n",
    "    while not check_input(guess):\n",
    "        print(\"Your guess is not valid: Please try again... \")\n",
    "        guess=(input(\"Please, insert your guess here: \" ))\n",
    "    print('Your guess is: '+str(list(guess.upper())))\n",
    "    return list(guess.upper())\n",
    "    "
   ]
  },
  {
   "cell_type": "code",
   "execution_count": null,
   "metadata": {},
   "outputs": [],
   "source": []
  },
  {
   "cell_type": "code",
   "execution_count": 6,
   "metadata": {},
   "outputs": [],
   "source": [
    "def compare_guess_to_secret(guess, secret):\n",
    "    \"\"\"\n",
    "    Compare the guess to the secret. \n",
    "    \n",
    "    Input: 2 lists with 4 letters: the guess and the secret\n",
    "    Output: 2 numbers: \n",
    "    - the number of guessed colors in the right place \n",
    "    - and the number of guessed colors in the wrong place\n",
    "    \"\"\"\n",
    "    right_place=0\n",
    "    wrong_place=0\n",
    "    \n",
    "    for i in range(4):\n",
    "        if guess[i]==secret[i]:\n",
    "            right_place=right_place+1;\n",
    "            \n",
    "    for i in guess:\n",
    "        if i in secret:\n",
    "            wrong_place=wrong_place+1\n",
    "    return [right_place, wrong_place]"
   ]
  },
  {
   "cell_type": "code",
   "execution_count": 7,
   "metadata": {},
   "outputs": [],
   "source": [
    "assert compare_guess_to_secret(['g','e','s','s'], ['s','e','c','r'])==[1,3]\n"
   ]
  },
  {
   "cell_type": "code",
   "execution_count": 8,
   "metadata": {},
   "outputs": [],
   "source": [
    "def check_for_victory(right_place):\n",
    "    \"\"\"\n",
    "    If the number of right place feedback is 4 return True, else return False\n",
    "    \n",
    "    Input: right place feedback\n",
    "    Output: a boolean\n",
    "    \"\"\"\n",
    "    return right_place==4\n",
    "\n",
    "#done"
   ]
  },
  {
   "cell_type": "code",
   "execution_count": 9,
   "metadata": {},
   "outputs": [],
   "source": [
    "assert check_for_victory(4)==True\n",
    "assert check_for_victory(3)==False\n",
    "assert check_for_victory(5)==False\n",
    "# done"
   ]
  },
  {
   "cell_type": "code",
   "execution_count": 10,
   "metadata": {},
   "outputs": [],
   "source": [
    "def check_for_max_attempt(all_guesses, max_attempt):\n",
    "    \"\"\"\n",
    "    Checks if the number of guesses reached the maximum attempts allowed\n",
    "    If the lenght of all_guesses is equal to max_attempt return True, else return False\n",
    "    \n",
    "    Input: a list with all_guesses\n",
    "           the number of all avaliable attempts \n",
    "    Output: a boolean\n",
    "    \"\"\"\n",
    "    return len(all_guesses)==max_attempt\n",
    "#done"
   ]
  },
  {
   "cell_type": "code",
   "execution_count": 11,
   "metadata": {},
   "outputs": [],
   "source": [
    "assert check_for_max_attempt(['all_guesses', '','',''], 4)==True\n",
    "assert check_for_max_attempt(['all_guesses', '','',''], 3)==False\n",
    "assert check_for_max_attempt(['all_guesses', '','',''], 5)==False\n",
    "#done"
   ]
  },
  {
   "cell_type": "code",
   "execution_count": 12,
   "metadata": {},
   "outputs": [],
   "source": [
    "def history(previous_guesses,previous_right_places,previous_right_colors, guess, right_place, right_color):\n",
    "    \"\"\"\n",
    "    Keeps track of the guesses and feedbacks\n",
    "    \n",
    "    Input: 4 lists: list of lists of the previous guesses\n",
    "                    list of previous right place feedback\n",
    "                    list of previous right color feedback\n",
    "                    the latest guess\n",
    "           2 numbers:  the latest right place feedback\n",
    "                       the latest right color feedback\n",
    "                       \n",
    "    Output: 3 lists: all guesses, right place feedback, right color feedback\n",
    "    \n",
    "    \"\"\"\n",
    "    previous_guesses.append(guess)\n",
    "    previous_right_places.append(right_place)\n",
    "    previous_right_colors.append(right_color)\n",
    "       \n",
    "    return [previous_guesses,previous_right_places,previous_right_colors]\n",
    "\n",
    "    \n",
    "  "
   ]
  },
  {
   "cell_type": "code",
   "execution_count": 13,
   "metadata": {},
   "outputs": [],
   "source": [
    "assert history(['rrrr'],[3],[4], 'gggg', 2, 3)==[['rrrr', 'gggg'], [3, 2], [4, 3]]"
   ]
  },
  {
   "cell_type": "code",
   "execution_count": null,
   "metadata": {},
   "outputs": [],
   "source": []
  },
  {
   "cell_type": "code",
   "execution_count": 14,
   "metadata": {},
   "outputs": [],
   "source": [
    "def graphic(guesses, right_places, right_colors, maximum_attends, victory):\n",
    "    \"\"\"\n",
    "    If victory is True, prints:\n",
    "    'Victory reached by' and the number of attempts the user used.\n",
    "    If maximum attends was reached prints:\n",
    "    'You have no more attempts, sorry'\n",
    "    Otherwise prints all previous guesses line by line. Next to each line the associated feedback is printed.\n",
    "    Above the output a header is printed: Guesses, Right Place, Right color\n",
    "    \n",
    "    Input: 3 lists: list of lists of the previous guesses\n",
    "                    list of previous right place feedback\n",
    "                    list of previous right color feedback\n",
    "            1 boolean: if maximum_attempts is reached\n",
    "    Output: nothing\n",
    "    \"\"\"\n",
    "    k=len(guesses)\n",
    "    if victory:\n",
    "        print('Victory reached by '+ str(k)+ ' step(s)')\n",
    "    if maximum_attends:\n",
    "        print('You have no more attempts, sorry')\n",
    "    else:\n",
    "        for i in range(len(guesses)):\n",
    "            print('Your correct guess was '+str(guesses[i])+\",: the number of right places is \"+str(right_places[i])+': , the number of right colors '+ str(right_colors[i]))\n",
    "     \n"
   ]
  },
  {
   "cell_type": "code",
   "execution_count": 15,
   "metadata": {},
   "outputs": [],
   "source": [
    "def play_the_game(max_attempt):\n",
    "    \"\"\"\n",
    "    While not reached victory or the maximum number of attempts calls the functions in order to play the game.\n",
    "    \n",
    "    Based on the rules the function should go something like:\n",
    "    1. generate the code using the function generate_secret\n",
    "    2. while neither of the stopping criteria (victory or max_attempts) is reached, play another turn:\n",
    "    \n",
    "        a. use the get_input function to get the guess of the codebreaker        \n",
    "        b. use the compare_guess_to_secret function to get the number of correct colors and correct places        \n",
    "        c. use the history function to update the history and see if the max_attempts criteria was reached\n",
    "        \n",
    "        d. use the check_for_vicotry function to see if the code was guessed\n",
    "        \n",
    "        e. use the graphic function to display the feedback\n",
    "    \"\"\"\n",
    "    victory = False\n",
    "    max_attempts = False\n",
    "    previous_guesses = []\n",
    "    previous_rp = []\n",
    "    previous_rc = []\n",
    "    \n",
    "    secret=generate_secret()\n",
    "    \n",
    "    while not victory and not max_attempts:\n",
    "        guess=get_input()\n",
    "        k=compare_guess_to_secret(guess, secret)\n",
    "        right_place=k[0]\n",
    "        right_color=k[1]\n",
    "        \n",
    "        b=history(previous_guesses,previous_rp,previous_rc, guess, right_place, right_color)\n",
    "        guesses=b[0]\n",
    "        right_places=b[1]\n",
    "        right_colors=b[2]\n",
    "        \n",
    "        max_attempts=check_for_max_attempt(guesses, max_attempt)\n",
    "        victory=check_for_victory(right_place)\n",
    "        graphic(guesses, right_places, right_colors, max_attempts, victory)\n",
    "        \n",
    "    return print(\"The secret word was \"+str(secret))\n",
    "    "
   ]
  },
  {
   "cell_type": "code",
   "execution_count": 16,
   "metadata": {},
   "outputs": [],
   "source": [
    "# Testing the check_input() function\n",
    "# Note that all possible outputs are tested\n",
    "\n",
    "assert check_input('rrrr')==True, 'this should pass'\n",
    "assert check_input('rrwr')==False, 'not valid input'\n",
    "assert check_input('rrrrr')==False, 'wrong number of input'"
   ]
  },
  {
   "cell_type": "code",
   "execution_count": null,
   "metadata": {},
   "outputs": [
    {
     "name": "stdout",
     "output_type": "stream",
     "text": [
      "The guess should be 4 lowercase letter, with no space between, e.g. 'brgo'. it should contain only the following characters: 'b','g','y','o','p', and 'r'. \n",
      "Please, insert your guess here:  \n",
      "Your guess is not valid: Please try again... \n",
      "Please, insert your guess here: brgo\n",
      "Your guess is: ['B', 'R', 'G', 'O']\n",
      "Your correct guess was ['B', 'R', 'G', 'O'],: the number of right places is 1: , the number of right colors 2\n",
      "The guess should be 4 lowercase letter, with no space between, e.g. 'brgo'. it should contain only the following characters: 'b','g','y','o','p', and 'r'. \n",
      "Please, insert your guess here:  borf\n",
      "Your guess is not valid: Please try again... \n"
     ]
    }
   ],
   "source": [
    "play_the_game(3)"
   ]
  },
  {
   "cell_type": "code",
   "execution_count": null,
   "metadata": {
    "collapsed": true
   },
   "outputs": [],
   "source": []
  },
  {
   "cell_type": "code",
   "execution_count": null,
   "metadata": {
    "collapsed": true
   },
   "outputs": [],
   "source": []
  },
  {
   "cell_type": "code",
   "execution_count": null,
   "metadata": {
    "collapsed": true
   },
   "outputs": [],
   "source": []
  }
 ],
 "metadata": {
  "kernelspec": {
   "display_name": "Python 3",
   "language": "python",
   "name": "python3"
  },
  "language_info": {
   "codemirror_mode": {
    "name": "ipython",
    "version": 3
   },
   "file_extension": ".py",
   "mimetype": "text/x-python",
   "name": "python",
   "nbconvert_exporter": "python",
   "pygments_lexer": "ipython3",
   "version": "3.8.5"
  }
 },
 "nbformat": 4,
 "nbformat_minor": 2
}
