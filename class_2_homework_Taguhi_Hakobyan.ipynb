{
 "cells": [
  {
   "cell_type": "markdown",
   "metadata": {},
   "source": [
    "### Homework exercises"
   ]
  },
  {
   "cell_type": "markdown",
   "metadata": {},
   "source": [
    "#### 1. Lists are tricky (at least list indexing)\n",
    "\n",
    "Create a list consisting of the names of the 3 fruits of your choice."
   ]
  },
  {
   "cell_type": "code",
   "execution_count": 1,
   "metadata": {
    "collapsed": true
   },
   "outputs": [],
   "source": [
    "# Your code here\n",
    "mylist=[\"apple\",\"bananas\",\"kiwi\"]"
   ]
  },
  {
   "cell_type": "markdown",
   "metadata": {},
   "source": [
    "Now, query the first element."
   ]
  },
  {
   "cell_type": "code",
   "execution_count": 2,
   "metadata": {},
   "outputs": [
    {
     "data": {
      "text/plain": [
       "'apple'"
      ]
     },
     "execution_count": 2,
     "metadata": {},
     "output_type": "execute_result"
    }
   ],
   "source": [
    "# Your code here\n",
    "mylist[0]"
   ]
  },
  {
   "cell_type": "markdown",
   "metadata": {},
   "source": [
    "Did you get what you expected? If not, what could have happened?"
   ]
  },
  {
   "cell_type": "markdown",
   "metadata": {},
   "source": [
    "** Answer: ** I got what expected. "
   ]
  },
  {
   "cell_type": "markdown",
   "metadata": {},
   "source": [
    "Check the last element of the list. Use the `len()` function to calculate the length of the list. Try to query the last element of the list based on its length."
   ]
  },
  {
   "cell_type": "markdown",
   "metadata": {},
   "source": [
    "** Answer: ** We know that the first element of the list starts with 0 index, so if the length of the list is n, than the index of the last element would be (n-1). If we simply write the command: mylist[len(mylist)], it will give an error, as it is out of the range. Correct commands are written below. "
   ]
  },
  {
   "cell_type": "markdown",
   "metadata": {},
   "source": [
    "What do you think, what was the problem?"
   ]
  },
  {
   "cell_type": "code",
   "execution_count": 5,
   "metadata": {},
   "outputs": [
    {
     "data": {
      "text/plain": [
       "'kiwi'"
      ]
     },
     "execution_count": 5,
     "metadata": {},
     "output_type": "execute_result"
    }
   ],
   "source": [
    "# Your code here\n",
    "mylist[len(mylist)-1]\n",
    "# or \n",
    "mylist[-1]"
   ]
  },
  {
   "cell_type": "code",
   "execution_count": null,
   "metadata": {
    "collapsed": true
   },
   "outputs": [],
   "source": []
  },
  {
   "cell_type": "markdown",
   "metadata": {},
   "source": [
    "#### 2. You can add several types of variables to a list."
   ]
  },
  {
   "cell_type": "code",
   "execution_count": 7,
   "metadata": {
    "collapsed": true
   },
   "outputs": [],
   "source": [
    "mixture = ['shoes', 2, 'jeans', 3, 'socks', 4]"
   ]
  },
  {
   "cell_type": "markdown",
   "metadata": {},
   "source": [
    "Query the second element of the list. What is its type? (Don't type the value of the second element) "
   ]
  },
  {
   "cell_type": "code",
   "execution_count": 8,
   "metadata": {},
   "outputs": [
    {
     "data": {
      "text/plain": [
       "2"
      ]
     },
     "execution_count": 8,
     "metadata": {},
     "output_type": "execute_result"
    }
   ],
   "source": [
    "#your code here:\n",
    "mixture[1]\n",
    "#print(\"my guess is the second element is an integer\")\n"
   ]
  },
  {
   "cell_type": "markdown",
   "metadata": {},
   "source": [
    "Write a loop which separates the 'mixture' list into two new lists: one for the clothes, one for the numbers."
   ]
  },
  {
   "cell_type": "code",
   "execution_count": 9,
   "metadata": {},
   "outputs": [
    {
     "name": "stdout",
     "output_type": "stream",
     "text": [
      "['shoes', 'jeans', 'socks']\n",
      "[2, 3, 4]\n"
     ]
    }
   ],
   "source": [
    "#your code here:\n",
    "clothes=[]\n",
    "numbers=[]\n",
    "for i in range(len(mixture)):\n",
    "    if type(mixture[i])==type(4):\n",
    "        numbers.append(mixture[i])\n",
    "    else:\n",
    "        clothes.append(mixture[i])\n",
    "print(clothes)\n",
    "print(numbers)\n",
    "    "
   ]
  },
  {
   "cell_type": "markdown",
   "metadata": {},
   "source": [
    "#### 3. List of lists\n",
    "\n",
    "Yor can also create lists of lists and loop through them."
   ]
  },
  {
   "cell_type": "code",
   "execution_count": 10,
   "metadata": {
    "collapsed": true
   },
   "outputs": [],
   "source": [
    "names = ['Anakin', 'Padme', 'Luke', 'Leia']\n",
    "roles = ['father', 'mother', 'brother', 'sister']\n",
    "mad = [True, False, False, False]"
   ]
  },
  {
   "cell_type": "markdown",
   "metadata": {},
   "source": [
    "Create a list called 'starwars' in which the elements are also lists: `names`, `roles`, and `mad`."
   ]
  },
  {
   "cell_type": "code",
   "execution_count": 11,
   "metadata": {},
   "outputs": [
    {
     "name": "stdout",
     "output_type": "stream",
     "text": [
      "[['Anakin', 'Padme', 'Luke', 'Leia'], ['father', 'mother', 'brother', 'sister'], [True, False, False, False]]\n"
     ]
    }
   ],
   "source": [
    "starwars = [names, roles, mad]\n",
    "print(starwars)"
   ]
  },
  {
   "cell_type": "markdown",
   "metadata": {},
   "source": [
    "What is the first element of the list `starwars`?\n",
    "How to query the first element of the second list in `starwars`?\n"
   ]
  },
  {
   "cell_type": "markdown",
   "metadata": {},
   "source": [
    "** Answer: ** The first element is the list \"names\". To get it I have to type starwars[0]"
   ]
  },
  {
   "cell_type": "code",
   "execution_count": 12,
   "metadata": {},
   "outputs": [
    {
     "data": {
      "text/plain": [
       "['Anakin', 'Padme', 'Luke', 'Leia']"
      ]
     },
     "execution_count": 12,
     "metadata": {},
     "output_type": "execute_result"
    }
   ],
   "source": [
    "#your code here\n",
    "starwars[0]"
   ]
  },
  {
   "cell_type": "markdown",
   "metadata": {},
   "source": [
    "Write a loop which prints each element of each sublist of the list `starwars`. Don't use the lists `names`, `roles`, `mad` separately in your loop."
   ]
  },
  {
   "cell_type": "code",
   "execution_count": 13,
   "metadata": {},
   "outputs": [
    {
     "name": "stdout",
     "output_type": "stream",
     "text": [
      "Anakin\n",
      "Padme\n",
      "Luke\n",
      "Leia\n",
      "father\n",
      "mother\n",
      "brother\n",
      "sister\n",
      "True\n",
      "False\n",
      "False\n",
      "False\n"
     ]
    }
   ],
   "source": [
    "#your code here\n",
    "for i in range(len(starwars)):\n",
    "    for j in range(len(starwars[i])):\n",
    "                   print(starwars[i][j])"
   ]
  },
  {
   "cell_type": "markdown",
   "metadata": {},
   "source": [
    "Using a loop of your choice, print all the names who are not mad accoding to the list called `mad`. You can use the list `starwars` or the sublists separately."
   ]
  },
  {
   "cell_type": "code",
   "execution_count": 14,
   "metadata": {},
   "outputs": [
    {
     "name": "stdout",
     "output_type": "stream",
     "text": [
      "Anakin\n",
      "Padme\n",
      "Luke\n",
      "Leia\n",
      "father\n",
      "mother\n",
      "brother\n",
      "sister\n"
     ]
    }
   ],
   "source": [
    "#your code here\n",
    "for i in range(len(starwars)):\n",
    "    for j in range(len(starwars[i])):\n",
    "        if starwars[i]!=mad:\n",
    "                   print(starwars[i][j])"
   ]
  },
  {
   "cell_type": "markdown",
   "metadata": {},
   "source": [
    "## Good job!"
   ]
  },
  {
   "cell_type": "code",
   "execution_count": 15,
   "metadata": {
    "collapsed": true
   },
   "outputs": [],
   "source": [
    "#          III| |III                   \n",
    "#        IIIII| |IIIII         \n",
    "#       IIIIII| |IIIIII        \n",
    "#       IIIIII| |IIIIII        \n",
    "#      IIIIIII| |IIIIIII       \n",
    "#      IIIIIII\\ /IIIIIII       \n",
    "#     II (___)| |(___) II      \n",
    "#    II  \\    /D\\    /  II     \n",
    "#   II  \\ \\  /| |\\  / /  II    \n",
    "#  II    \\_\\/|| ||\\/_/    II   \n",
    "# II     / O-------O \\     II  \n",
    "#II_____/   \\|||||/   \\_____II \n",
    "#      /               \\       \n",
    "#      |_______________|      "
   ]
  },
  {
   "cell_type": "code",
   "execution_count": null,
   "metadata": {
    "collapsed": true
   },
   "outputs": [],
   "source": []
  }
 ],
 "metadata": {
  "kernelspec": {
   "display_name": "Python 3",
   "language": "python",
   "name": "python3"
  },
  "language_info": {
   "codemirror_mode": {
    "name": "ipython",
    "version": 3
   },
   "file_extension": ".py",
   "mimetype": "text/x-python",
   "name": "python",
   "nbconvert_exporter": "python",
   "pygments_lexer": "ipython3",
   "version": "3.6.3"
  }
 },
 "nbformat": 4,
 "nbformat_minor": 2
}
