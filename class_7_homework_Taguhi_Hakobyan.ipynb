{
 "cells": [
  {
   "cell_type": "markdown",
   "metadata": {},
   "source": [
    "### Homework\n",
    "In the following exercise we will download data from 5 different authors. The steps of the workflow are up to you but you can use a lot of the function we defined in class. \n",
    "<br>\n",
    "1. Pick 5 authors you like (preferably with many books and famous enough to have ratings in the data base).\n",
    "Loop through the pages of results returned by the Google Books API (probably the results will be on multiple pages, even if you set the max_results on the page to 40. You can see the total item number in all the responses by using the key 'totalItems'). Save the json info of each of the books in a list. \n",
    "2. Next, extract the variables `[title, authors, publishedDate, pageCount, categories, averageRating, ratingsCount, epub]` for each of the books. Write them into a `csv` file where each book is a separate line and the fields are separated by tabs. Make a header line as well, explaning the variable names in the first line. \n",
    "\n",
    "**Please include the resulting .csv file in the folder that you upload on moodle."
   ]
  },
  {
   "cell_type": "markdown",
   "metadata": {},
   "source": [
    "*** Question 1 ***"
   ]
  },
  {
   "cell_type": "code",
   "execution_count": 1,
   "metadata": {},
   "outputs": [],
   "source": [
    "import requests\n",
    "import json"
   ]
  },
  {
   "cell_type": "code",
   "execution_count": 2,
   "metadata": {},
   "outputs": [],
   "source": [
    "my_authors=['Dan+Brown','Stephen+King','Paulo+Coelho','Oscar+Wilde','J.+K.+Rowling']\n",
    "# my_authors=['Brown+Dan','King','Coelho','Wilde','Rowling']"
   ]
  },
  {
   "cell_type": "code",
   "execution_count": 3,
   "metadata": {},
   "outputs": [],
   "source": [
    "def url_maker(author):\n",
    "    '''make an url to get the author'''\n",
    "    return 'https://www.googleapis.com/books/v1/volumes?q=inauthor:'+str(author)"
   ]
  },
  {
   "cell_type": "code",
   "execution_count": 4,
   "metadata": {},
   "outputs": [
    {
     "name": "stdout",
     "output_type": "stream",
     "text": [
      "0\n",
      "1\n",
      "2\n",
      "3\n",
      "4\n"
     ]
    }
   ],
   "source": [
    "book_json=[]\n",
    "for i in range(len(my_authors)):\n",
    "    url=url_maker(my_authors[i])\n",
    "    print(i)\n",
    "    book_json.append(json.loads(requests.get(url).text))"
   ]
  },
  {
   "cell_type": "markdown",
   "metadata": {
    "collapsed": true
   },
   "source": [
    "*** Question 2 *** "
   ]
  },
  {
   "cell_type": "code",
   "execution_count": 5,
   "metadata": {},
   "outputs": [],
   "source": [
    "def parse_json(j):\n",
    "    '''the function takes a book item as an input and returns a list of the extracted features'''\n",
    "    if 'title' in j['volumeInfo'].keys():\n",
    "        title = j['volumeInfo']['title']\n",
    "    else:\n",
    "        title = None\n",
    "        \n",
    "    if 'authors' in j['volumeInfo'].keys():\n",
    "        authors = j['volumeInfo']['authors']\n",
    "    else:\n",
    "        authors = None\n",
    "        \n",
    "    if 'publishedDate' in j['volumeInfo'].keys():\n",
    "        publishedDate = j['volumeInfo']['publishedDate']\n",
    "    else:\n",
    "        publishedDate = None\n",
    "        \n",
    "    if 'pageCount' in j['volumeInfo'].keys():\n",
    "        pageCount = j['volumeInfo']['pageCount']\n",
    "    else:\n",
    "        pageCount = None\n",
    "        \n",
    "    if 'categories' in j['volumeInfo'].keys():\n",
    "        categories = j['volumeInfo']['categories']\n",
    "    else:\n",
    "        categories = None\n",
    "        \n",
    "    if 'averageRating' in j['volumeInfo'].keys():\n",
    "        averageRating = j['volumeInfo']['averageRating']\n",
    "    else:\n",
    "        averageRating = None\n",
    "        \n",
    "    if 'ratingsCount' in j['volumeInfo'].keys():\n",
    "        ratingsCount = j['volumeInfo']['ratingsCount']\n",
    "    else:\n",
    "        ratingsCount = None\n",
    "        \n",
    "    if 'epub' in j['accessInfo'].keys():\n",
    "        epub = j['accessInfo']['epub']['isAvailable']\n",
    "    else:\n",
    "        epub = None\n",
    "\n",
    "    \n",
    "    return title, authors, publishedDate, pageCount, categories, averageRating, ratingsCount, epub\n"
   ]
  },
  {
   "cell_type": "code",
   "execution_count": 6,
   "metadata": {},
   "outputs": [],
   "source": [
    "import csv"
   ]
  },
  {
   "cell_type": "code",
   "execution_count": 7,
   "metadata": {},
   "outputs": [
    {
     "name": "stdout",
     "output_type": "stream",
     "text": [
      "0\n",
      "('Origin', ['Dan Brown'], '2017-10-03', 480, ['Fiction'], 3.5, 85, True)\n",
      "1\n",
      "('Inferno', ['Dan Brown'], '2014-05-06', 611, ['Fiction'], 3, 3353, False)\n",
      "2\n",
      "('Wild Symphony', ['Dan Brown'], '2022-01-05', 40, None, 3.5, 2, False)\n",
      "3\n",
      "('Illuminati', ['Dan Brown'], '2010-10-29', 731, ['Fiction'], 4.5, 7, True)\n",
      "4\n",
      "('The Lost Symbol', ['Dan Brown'], '2012-05-01', 624, ['Fiction'], 3.5, 104, False)\n",
      "5\n",
      "('Deception Point', ['Dan Brown'], '2019-07-30', 752, ['Fiction'], None, None, False)\n",
      "6\n",
      "('Angels and Demons', ['Dan Brown'], '2013-03-25', 640, ['Anti-Catholicism'], 4, 3, False)\n",
      "7\n",
      "('Crypto', ['Dan Brown'], '2016', 434, ['Fiction'], None, None, False)\n",
      "8\n",
      "('The Da Vinci Code', ['Dan Brown'], '2003', 468, ['Fiction'], 3, 3471, False)\n",
      "9\n",
      "('Digital Fortress', ['Dan Brown'], '2009', 510, ['American fiction'], 3, 3051, False)\n",
      "0\n",
      "('The Institute', ['Stephen King'], '2019-09-10', 576, ['Fiction'], None, None, False)\n",
      "1\n",
      "('Billy Summers', ['Stephen King'], '2021-08-03', 544, ['Fiction'], 3.5, 31, True)\n",
      "2\n",
      "('The Outsider', ['Stephen King'], '2018-05-22', 576, ['Fiction'], None, None, False)\n",
      "3\n",
      "('Elevation', ['Stephen King'], '2018-10-30', 160, ['Fiction'], 3.5, 56, False)\n",
      "4\n",
      "('1922', ['Stephen King'], '2019-11-12', 144, ['Fiction'], 3.5, 4, False)\n",
      "5\n",
      "('Duma Key', ['Stephen King'], '2008-01-22', 611, ['Fiction'], 4, 221, False)\n",
      "6\n",
      "('Desperation', ['Stephen King'], '1996', 690, ['Fiction'], 4, 7, False)\n",
      "7\n",
      "('Sleeping Beauties', ['Stephen King', 'Owen King'], '2017-09-26', 720, ['Fiction'], 3.5, 45, False)\n",
      "8\n",
      "('Under the Dome', ['Stephen King'], '2009-11-10', 1074, ['Fiction'], 4, 65, False)\n",
      "9\n",
      "('Ça', ['Stephen King'], '2002', 799, None, None, None, False)\n",
      "0\n",
      "('BEST OF PAULO COELHO.', ['PAULO. COELHO'], '2017', None, None, None, None, False)\n",
      "1\n",
      "('Hippie', ['Paulo Coelho'], '2019-05-16', 304, None, 3.5, 4, False)\n",
      "2\n",
      "('PAULO COELHO', ['PAULO. COELHO'], '2018', None, None, None, None, False)\n",
      "3\n",
      "('The Archer', ['Paulo Coelho'], '2020', 160, ['FICTION'], 5, 1, False)\n",
      "4\n",
      "('Aleph', ['Paulo Coelho'], '2012', 269, ['Fiction'], None, None, False)\n",
      "5\n",
      "('Manuscript Found in Accra', ['Paulo Coelho'], '2013-04-01', 208, ['Fiction'], 3.5, 19, True)\n",
      "6\n",
      "('Maktub', ['Paulo Coelho'], '2002', 192, ['Juvenile Nonfiction'], None, None, False)\n",
      "7\n",
      "('The Paulo Coelho Collection', ['Paulo Coelho'], '2022', 0, None, None, None, False)\n",
      "8\n",
      "('The Spy', ['Paulo Coelho'], '2017', 192, ['Fiction'], 3.5, 11, False)\n",
      "9\n",
      "('Eleven Minutes', ['Coelho', 'HarperCollins Publishers India'], '2006-03-01', 304, None, 3.5, 32, False)\n",
      "0\n",
      "('Collins Complete Works of Oscar Wilde', ['Oscar Wilde', 'Merlin Holland'], '2003', 1304, ['Drama'], 5, 1, False)\n",
      "1\n",
      "('Complete Works of Oscar Wilde (Collins Classics)', ['Oscar Wilde'], '2010-06-10', 1216, ['Fiction'], 5, 1, True)\n",
      "2\n",
      "(\"Oscar Wilde's Wit and Wisdom\", ['Oscar Wilde'], '2012-03-01', 64, ['Reference'], 4, 1, True)\n",
      "3\n",
      "('The Collected Works of Oscar Wilde', ['Oscar Wilde'], '2007', 1104, ['Literary Collections'], None, None, False)\n",
      "4\n",
      "('Oscar Wilde - The Major Works', ['Oscar Wilde'], '2008-04-17', 638, ['Foreign Language Study'], None, None, False)\n",
      "5\n",
      "('Collected Poems of Oscar Wilde', ['Oscar Wilde'], '2000', 182, ['Fiction'], 5, 1, False)\n",
      "6\n",
      "('The Complete Short Stories of Oscar Wilde', ['Oscar Wilde'], '2006-09-08', 208, ['Fiction'], None, None, False)\n",
      "7\n",
      "('The Plays of Oscar Wilde', ['Oscar Wilde'], '2000', 444, ['Drama'], 4, 2, False)\n",
      "8\n",
      "('Stories for Children', ['Oscar Wilde'], '1999', 96, [\"Children's stories\"], None, None, False)\n",
      "9\n",
      "('Oscar Wilde Stories for Children', ['Oscar Wilde', 'P. J. Lynch'], '2006', 112, ['Juvenile Fiction'], None, None, False)\n",
      "0\n",
      "('The Christmas Pig', ['J. K. Rowling'], '2021-10-12', 288, ['Juvenile Fiction'], 4, 5, True)\n",
      "1\n",
      "('The Ickabog', ['J. K. Rowling'], '2020-11-10', 304, ['Juvenile Fiction'], 4, 4, False)\n",
      "2\n",
      "('Very Good Lives', ['J.K. Rowling'], '2015-04-14', 80, ['Self-Help'], 4, 16, True)\n",
      "3\n",
      "('The Casual Vacancy', ['J. K. Rowling'], '2013-07-23', 512, ['Fiction'], 3, 319, False)\n",
      "4\n",
      "(\"L'Ickabog\", ['J. K. Rowling'], '2020', 320, ['Juvenile Fiction'], None, None, False)\n",
      "5\n",
      "('The Tales of Beedle the Bard', ['J. K. Rowling'], '2017-01-12', 144, None, 4, 50, False)\n",
      "6\n",
      "('Fantastic Beasts and Where to Find Them', ['J. K. Rowling'], '2017-11-07', 131, ['Animals, Mythical'], 4, 79, False)\n",
      "7\n",
      "('Harry Potter and the Goblet of Fire: The Illustrated Edition', ['J. K. Rowling'], '2019-10-08', 464, ['Juvenile Fiction'], 5, 1, False)\n",
      "8\n",
      "('Harry Potter and the Chamber of Secrets', ['J. K. Rowling'], '2016', 259, ['Juvenile Fiction'], 4.5, 2268, False)\n",
      "9\n",
      "(\"Harry Potter and the Sorcerer's Stone\", ['J.K. Rowling'], '2015-12-08', 311, ['Fiction'], 4.5, 2047, True)\n"
     ]
    }
   ],
   "source": [
    "with open('my_csv.csv','w', newline='',encoding='utf-8') as f:\n",
    "    t=csv.writer(f)\n",
    "    for author in range(len(book_json)):\n",
    "###        print(author)\n",
    "        for i in range(len(book_json[author]['items'])):\n",
    "            print(i)\n",
    "            k=parse_json(book_json[author]['items'][i])\n",
    "            print(k)\n",
    "            t.writerow(k)"
   ]
  },
  {
   "cell_type": "code",
   "execution_count": null,
   "metadata": {},
   "outputs": [],
   "source": []
  },
  {
   "cell_type": "code",
   "execution_count": null,
   "metadata": {},
   "outputs": [],
   "source": []
  },
  {
   "cell_type": "code",
   "execution_count": null,
   "metadata": {},
   "outputs": [],
   "source": []
  }
 ],
 "metadata": {
  "kernelspec": {
   "display_name": "Python 3",
   "language": "python",
   "name": "python3"
  },
  "language_info": {
   "codemirror_mode": {
    "name": "ipython",
    "version": 3
   },
   "file_extension": ".py",
   "mimetype": "text/x-python",
   "name": "python",
   "nbconvert_exporter": "python",
   "pygments_lexer": "ipython3",
   "version": "3.8.5"
  }
 },
 "nbformat": 4,
 "nbformat_minor": 2
}
