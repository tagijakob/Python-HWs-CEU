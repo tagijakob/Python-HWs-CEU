{
 "cells": [
  {
   "cell_type": "markdown",
   "metadata": {},
   "source": [
    "#### Homework exercises:\n",
    "    \n",
    "1. Try to play around with markdown options: write a sentence with bold, italics and strikethrough text. Use this\n",
    "[cheatsheet](http://assemble.io/docs/Cheatsheet-Markdown.html).\n",
    "2. Include the value of a variable in the middle of a sentence. Print out the sentence. For example: 'This recipe serves 4 people.', where the number 4 is the value of a variable.\n",
    "3. Execute the following command:\n",
    "    `first_ingredient = onion`\n",
    "  Explain what why you got an error message (with your own words)!\n",
    "4. Try to compare the value of two variables. Type the following: `first_ingredient == second_ingredient`. What happens? Compare a few integer and float variables as well (you can define new ones or use the ones you defined earlier). \n",
    "5. What if I compare integers and floats? `int(2.1) == 2.0` What is the value of this expression? Why?\n",
    "6. Execute the following command:\n",
    "\n",
    "` age = #your age\n",
    "print('My age is ' + str(age))\n",
    "print(type(age))`\n",
    "  \n",
    "    Explain with your own words why the type of age is still an integer! Come up with a command which converts age into a string permanently. Now, try to divide the variable `age` by 10. Did you succeed? Why not? "
   ]
  },
  {
   "cell_type": "markdown",
   "metadata": {},
   "source": [
    "** 1. Solution ** "
   ]
  },
  {
   "cell_type": "markdown",
   "metadata": {
    "collapsed": true
   },
   "source": [
    "** This is my bold sentence **"
   ]
  },
  {
   "cell_type": "markdown",
   "metadata": {},
   "source": [
    "_ This is my italic sentence _"
   ]
  },
  {
   "cell_type": "markdown",
   "metadata": {},
   "source": [
    "+ First point in my list\n",
    "+ Second point in my list\n",
    "    - Subpoint of the second point\n",
    "    - Second Subpoint of the second point "
   ]
  },
  {
   "cell_type": "markdown",
   "metadata": {},
   "source": [
    "|My table|smth written|again something|\n",
    "|--------|------------|---------------|\n",
    "|first column|Second column|Third column|\n",
    "|first element|smth written|third element|\n"
   ]
  },
  {
   "cell_type": "markdown",
   "metadata": {},
   "source": [
    "** 2. Solution ** "
   ]
  },
  {
   "cell_type": "code",
   "execution_count": 2,
   "metadata": {},
   "outputs": [
    {
     "name": "stdout",
     "output_type": "stream",
     "text": [
      "This recipe serves 4 people\n"
     ]
    }
   ],
   "source": [
    "number_of_people=4\n",
    "print(\"This recipe serves \"+str(number_of_people)+ \" people\")"
   ]
  },
  {
   "cell_type": "markdown",
   "metadata": {},
   "source": [
    "** 3. Solution ** "
   ]
  },
  {
   "cell_type": "code",
   "execution_count": 4,
   "metadata": {},
   "outputs": [
    {
     "ename": "NameError",
     "evalue": "name 'onion' is not defined",
     "output_type": "error",
     "traceback": [
      "\u001b[0;31m---------------------------------------------------------------------------\u001b[0m",
      "\u001b[0;31mNameError\u001b[0m                                 Traceback (most recent call last)",
      "\u001b[0;32m<ipython-input-4-ffde873f20ba>\u001b[0m in \u001b[0;36m<module>\u001b[0;34m\u001b[0m\n\u001b[0;32m----> 1\u001b[0;31m \u001b[0mfirst_ingredient\u001b[0m \u001b[0;34m=\u001b[0m \u001b[0monion\u001b[0m\u001b[0;34m\u001b[0m\u001b[0;34m\u001b[0m\u001b[0m\n\u001b[0m",
      "\u001b[0;31mNameError\u001b[0m: name 'onion' is not defined"
     ]
    }
   ],
   "source": [
    "first_ingredient = onion"
   ]
  },
  {
   "cell_type": "markdown",
   "metadata": {},
   "source": [
    "The command \"first_ingredient = onion\", will print a error, because onion is not a regocnisable type by python or simply because we didn't define onion earlier"
   ]
  },
  {
   "cell_type": "markdown",
   "metadata": {},
   "source": [
    "** 4. Solution ** "
   ]
  },
  {
   "cell_type": "code",
   "execution_count": 5,
   "metadata": {},
   "outputs": [
    {
     "ename": "NameError",
     "evalue": "name 'first_ingredient' is not defined",
     "output_type": "error",
     "traceback": [
      "\u001b[0;31m---------------------------------------------------------------------------\u001b[0m",
      "\u001b[0;31mNameError\u001b[0m                                 Traceback (most recent call last)",
      "\u001b[0;32m<ipython-input-5-f365ede3a08c>\u001b[0m in \u001b[0;36m<module>\u001b[0;34m\u001b[0m\n\u001b[0;32m----> 1\u001b[0;31m \u001b[0mfirst_ingredient\u001b[0m \u001b[0;34m==\u001b[0m \u001b[0msecond_ingredient\u001b[0m\u001b[0;34m\u001b[0m\u001b[0;34m\u001b[0m\u001b[0m\n\u001b[0m",
      "\u001b[0;31mNameError\u001b[0m: name 'first_ingredient' is not defined"
     ]
    }
   ],
   "source": [
    "first_ingredient == second_ingredient"
   ]
  },
  {
   "cell_type": "markdown",
   "metadata": {},
   "source": [
    "first_ingredient == second_ingredient command will produce an error, as the variables are not defined. With other cases, the output should be either an \"error\", \"True\" or \"False\", depeding on the specification. See the examples bellow."
   ]
  },
  {
   "cell_type": "code",
   "execution_count": 6,
   "metadata": {},
   "outputs": [
    {
     "data": {
      "text/plain": [
       "True"
      ]
     },
     "execution_count": 6,
     "metadata": {},
     "output_type": "execute_result"
    }
   ],
   "source": [
    "1==1"
   ]
  },
  {
   "cell_type": "code",
   "execution_count": 7,
   "metadata": {},
   "outputs": [
    {
     "data": {
      "text/plain": [
       "True"
      ]
     },
     "execution_count": 7,
     "metadata": {},
     "output_type": "execute_result"
    }
   ],
   "source": [
    "1==1.0"
   ]
  },
  {
   "cell_type": "code",
   "execution_count": 8,
   "metadata": {},
   "outputs": [
    {
     "data": {
      "text/plain": [
       "False"
      ]
     },
     "execution_count": 8,
     "metadata": {},
     "output_type": "execute_result"
    }
   ],
   "source": [
    "\"love\"==\"hate\""
   ]
  },
  {
   "cell_type": "markdown",
   "metadata": {},
   "source": [
    "** 5. Solution ** "
   ]
  },
  {
   "cell_type": "code",
   "execution_count": 9,
   "metadata": {},
   "outputs": [
    {
     "data": {
      "text/plain": [
       "True"
      ]
     },
     "execution_count": 9,
     "metadata": {},
     "output_type": "execute_result"
    }
   ],
   "source": [
    "int(2.1) == 2.0 "
   ]
  },
  {
   "cell_type": "markdown",
   "metadata": {},
   "source": [
    "Though int(2.1) and 2.0 have different types (first is integer and second is a float), but they have programed in python in such a way, that their values are equal (which is quite intiutive: 2=2.0). \n",
    "\n"
   ]
  },
  {
   "cell_type": "markdown",
   "metadata": {},
   "source": [
    "** 6. Solution ** "
   ]
  },
  {
   "cell_type": "code",
   "execution_count": 10,
   "metadata": {},
   "outputs": [
    {
     "name": "stdout",
     "output_type": "stream",
     "text": [
      "My age is 125\n",
      "<class 'int'>\n"
     ]
    }
   ],
   "source": [
    "age = 125\n",
    "print('My age is ' + str(age))\n",
    "print(type(age))"
   ]
  },
  {
   "cell_type": "markdown",
   "metadata": {},
   "source": [
    "Because we used the str command, but didn't overwrite it to the original variable. To convert it permanantly into the string we use the folloing command"
   ]
  },
  {
   "cell_type": "code",
   "execution_count": 11,
   "metadata": {},
   "outputs": [],
   "source": [
    "age=str(age)"
   ]
  },
  {
   "cell_type": "code",
   "execution_count": 12,
   "metadata": {},
   "outputs": [
    {
     "ename": "TypeError",
     "evalue": "unsupported operand type(s) for /: 'str' and 'int'",
     "output_type": "error",
     "traceback": [
      "\u001b[0;31m---------------------------------------------------------------------------\u001b[0m",
      "\u001b[0;31mTypeError\u001b[0m                                 Traceback (most recent call last)",
      "\u001b[0;32m<ipython-input-12-3a956c6affa2>\u001b[0m in \u001b[0;36m<module>\u001b[0;34m\u001b[0m\n\u001b[0;32m----> 1\u001b[0;31m \u001b[0mage\u001b[0m\u001b[0;34m/\u001b[0m\u001b[0;36m10\u001b[0m\u001b[0;34m\u001b[0m\u001b[0;34m\u001b[0m\u001b[0m\n\u001b[0m",
      "\u001b[0;31mTypeError\u001b[0m: unsupported operand type(s) for /: 'str' and 'int'"
     ]
    }
   ],
   "source": [
    "age/10"
   ]
  },
  {
   "cell_type": "markdown",
   "metadata": {},
   "source": [
    "The Command age/10 will give you an error, because now python understands age as a string, and strings are not divisible (they understood simply as a text). "
   ]
  }
 ],
 "metadata": {
  "kernelspec": {
   "display_name": "Python 3",
   "language": "python",
   "name": "python3"
  },
  "language_info": {
   "codemirror_mode": {
    "name": "ipython",
    "version": 3
   },
   "file_extension": ".py",
   "mimetype": "text/x-python",
   "name": "python",
   "nbconvert_exporter": "python",
   "pygments_lexer": "ipython3",
   "version": "3.8.5"
  }
 },
 "nbformat": 4,
 "nbformat_minor": 2
}
